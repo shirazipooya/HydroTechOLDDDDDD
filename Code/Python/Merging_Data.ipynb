{
 "cells": [
  {
   "cell_type": "markdown",
   "metadata": {},
   "source": [
    "<div style=\"line-height:600%; background-color:#595959\">\n",
    "    <font color=white face=\"DejaVu Serif\" size=5>\n",
    "        <div align=center>            \n",
    "            Combine Multiple *.xlsx Files Into A Single *.xlsx File             \n",
    "        </div>\n",
    "    </font>    \n",
    "</div>"
   ]
  },
  {
   "cell_type": "code",
   "execution_count": null,
   "metadata": {},
   "outputs": [],
   "source": [
    "# Load Required Libraries\n",
    "import pandas as pd\n",
    "from glob import glob\n",
    "\n",
    "# Load Data\n",
    "OS = \"UBUNTU\"\n",
    "\n",
    "if OS == \"WINDOWS\":\n",
    "    DATA_PATH = \"C:/w/HydroTech_DataManipulation/Data/Processed_Data/\"\n",
    "else:\n",
    "    DATA_PATH = \"/home/pooya/w/DataManipulation/Data/Processed_Data/\"\n",
    "\n",
    "xlsxFileNames = glob(DATA_PATH + '*.xlsx')\n",
    "data = [pd.read_excel(xlsxFile) for xlsxFile in xlsxFileNames]\n",
    "data = pd.concat(data, ignore_index=True)\n",
    "print(f'shape data is {data.shape}')\n",
    "\n",
    "# Test Data\n",
    "n_row = 0\n",
    "for i in xlsxFileNames:\n",
    "    df = pd.read_excel(i)\n",
    "    n_row += df.shape[0]\n",
    "    print(i)\n",
    "    print(f'shape file is {df.shape}')\n",
    "\n",
    "if n_row == data.shape[0]:\n",
    "    print('DATA IS OK!')\n",
    "else:\n",
    "    print('YOU HAVE A PROBLEM!')\n",
    "\n",
    "# Save Data\n",
    "data.to_excel(DATA_PATH + 'Merged_Data.xlsx', header=True, index=False)"
   ]
  }
 ],
 "metadata": {
  "kernelspec": {
   "display_name": "Python 3",
   "language": "python",
   "name": "python3"
  },
  "language_info": {
   "codemirror_mode": {
    "name": "ipython",
    "version": 3
   },
   "file_extension": ".py",
   "mimetype": "text/x-python",
   "name": "python",
   "nbconvert_exporter": "python",
   "pygments_lexer": "ipython3",
   "version": "3.7.7"
  }
 },
 "nbformat": 4,
 "nbformat_minor": 4
}
