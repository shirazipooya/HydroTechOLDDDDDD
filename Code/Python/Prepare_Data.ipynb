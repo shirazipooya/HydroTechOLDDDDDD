{
 "cells": [
  {
   "cell_type": "markdown",
   "metadata": {},
   "source": [
    "<div style=\"line-height:600%; background-color:#595959\">\n",
    "    <font color=white face=\"DejaVu Serif\" size=5>\n",
    "        <div align=center>            \n",
    "            Initial Settings            \n",
    "        </div>\n",
    "    </font>    \n",
    "</div>"
   ]
  },
  {
   "cell_type": "markdown",
   "metadata": {},
   "source": [
    "### Load Required Libraries"
   ]
  },
  {
   "cell_type": "code",
   "execution_count": 1,
   "metadata": {},
   "outputs": [],
   "source": [
    "import os\n",
    "import sys\n",
    "import pandas as pd\n",
    "import numpy as np\n",
    "from plydata import *"
   ]
  },
  {
   "cell_type": "markdown",
   "metadata": {},
   "source": [
    "### Set Pandas Options"
   ]
  },
  {
   "cell_type": "code",
   "execution_count": 2,
   "metadata": {},
   "outputs": [],
   "source": [
    "pd.set_option('display.min_rows', 20)\n",
    "pd.set_option('display.max_rows', 20)\n",
    "pd.set_option('display.max_columns', 50)\n",
    "pd.options.display.float_format = '{:,.2f}'.format"
   ]
  },
  {
   "cell_type": "markdown",
   "metadata": {},
   "source": [
    "### Set Project Path"
   ]
  },
  {
   "cell_type": "code",
   "execution_count": 3,
   "metadata": {},
   "outputs": [],
   "source": [
    "OS = \"UBUNTU\"\n",
    "\n",
    "if OS == \"WINDOWS\":\n",
    "    PROJECT_PATH = \"c:/w/HydroTech/\"\n",
    "else:\n",
    "    PROJECT_PATH = \"/home/pooya/w/HydroTech/\""
   ]
  },
  {
   "cell_type": "markdown",
   "metadata": {},
   "source": [
    "### Load Required Functions"
   ]
  },
  {
   "cell_type": "markdown",
   "metadata": {},
   "source": [
    "#### Function 01 - Extract 'Region', 'District' from 'Peyman' Column"
   ]
  },
  {
   "cell_type": "code",
   "execution_count": 4,
   "metadata": {},
   "outputs": [],
   "source": [
    "def extractRD(x, para):\n",
    "\n",
    "    if para == 'ناحیه':\n",
    "        if para not in x:\n",
    "            return np.nan\n",
    "        elif (x.index(para) + 1) >= len(x):\n",
    "            return np.nan\n",
    "        else:\n",
    "            return str(x[x.index(para) + 1]).zfill(2)\n",
    "\n",
    "    if para == 'منطقه':\n",
    "        if para not in x:\n",
    "            if ('کمربند' in x) and ('جنوبی' in x):\n",
    "                return '14'\n",
    "            elif ('کمربند' in x) and ('شمالی' in x):\n",
    "                return '15'\n",
    "            elif ('سازمان' in x) and ('پارک‌ها' in x):\n",
    "                return '16'\n",
    "            else:\n",
    "                return np.nan\n",
    "        elif (x.index(para) + 1) >= len(x):\n",
    "            return np.nan\n",
    "        else:\n",
    "            if str(x[x.index(para) + 1]) == 'ثامن':\n",
    "                return '13'\n",
    "            else:\n",
    "                return str(x[x.index(para) + 1]).zfill(2)"
   ]
  },
  {
   "cell_type": "markdown",
   "metadata": {},
   "source": [
    "<div style=\"line-height:600%; background-color:#595959\">\n",
    "    <font color=white face=\"DejaVu Serif\" size=5>\n",
    "        <div align=center>            \n",
    "            Load Data            \n",
    "        </div>\n",
    "    </font>    \n",
    "</div>"
   ]
  },
  {
   "cell_type": "markdown",
   "metadata": {},
   "source": [
    "### Read Data"
   ]
  },
  {
   "cell_type": "code",
   "execution_count": 5,
   "metadata": {
    "scrolled": true
   },
   "outputs": [
    {
     "data": {
      "text/html": [
       "<div>\n",
       "<style scoped>\n",
       "    .dataframe tbody tr th:only-of-type {\n",
       "        vertical-align: middle;\n",
       "    }\n",
       "\n",
       "    .dataframe tbody tr th {\n",
       "        vertical-align: top;\n",
       "    }\n",
       "\n",
       "    .dataframe thead th {\n",
       "        text-align: right;\n",
       "    }\n",
       "</style>\n",
       "<table border=\"1\" class=\"dataframe\">\n",
       "  <thead>\n",
       "    <tr style=\"text-align: right;\">\n",
       "      <th></th>\n",
       "      <th>ردیف</th>\n",
       "      <th>پیمان</th>\n",
       "      <th>تاریخ شروع پیمان</th>\n",
       "      <th>تاریخ پایان پیمان</th>\n",
       "      <th>آخرین شماره صورت وضعیت تاکنون</th>\n",
       "      <th>نوع آیتم</th>\n",
       "      <th>نوع لکه</th>\n",
       "      <th>نام لکه</th>\n",
       "      <th>نوع قلم</th>\n",
       "      <th>زیرمجموعه هر قلم</th>\n",
       "      <th>مقدار در صورتجلسه تحویل و تحول</th>\n",
       "      <th>نمایش آخرین ریزمتره (ریزمتره نهایی)</th>\n",
       "      <th>مساحت لکه (مترمربع)</th>\n",
       "      <th>مساحت پیمان (مترمربع)</th>\n",
       "      <th>میزان افزایش/کاهش ریزمتره (تعداد)</th>\n",
       "    </tr>\n",
       "  </thead>\n",
       "  <tbody>\n",
       "    <tr>\n",
       "      <th>0</th>\n",
       "      <td>1,544.00</td>\n",
       "      <td>الف ناحیه 1 منطقه 1</td>\n",
       "      <td>1397/03/01</td>\n",
       "      <td>1400/03/01</td>\n",
       "      <td>20.00</td>\n",
       "      <td>ریزآیتمی</td>\n",
       "      <td>آیلند ها</td>\n",
       "      <td>آیلند بلوار ابوذر و لچکی ها</td>\n",
       "      <td>پرچین</td>\n",
       "      <td>آبیاری تانکری</td>\n",
       "      <td>1,405.00</td>\n",
       "      <td>1,405.00</td>\n",
       "      <td>2,718.00</td>\n",
       "      <td>122,292.00</td>\n",
       "      <td>0</td>\n",
       "    </tr>\n",
       "    <tr>\n",
       "      <th>1</th>\n",
       "      <td>1,458.00</td>\n",
       "      <td>الف ناحیه 1 منطقه 1</td>\n",
       "      <td>1397/03/01</td>\n",
       "      <td>1400/03/01</td>\n",
       "      <td>20.00</td>\n",
       "      <td>ریزآیتمی</td>\n",
       "      <td>آیلند ها</td>\n",
       "      <td>آیلند بلوار ابوذر و لچکی ها</td>\n",
       "      <td>پرچین</td>\n",
       "      <td>آبیاری شلنگی</td>\n",
       "      <td>299.00</td>\n",
       "      <td>299.00</td>\n",
       "      <td>2,718.00</td>\n",
       "      <td>122,292.00</td>\n",
       "      <td>0</td>\n",
       "    </tr>\n",
       "    <tr>\n",
       "      <th>2</th>\n",
       "      <td>1,486.00</td>\n",
       "      <td>الف ناحیه 1 منطقه 1</td>\n",
       "      <td>1397/03/01</td>\n",
       "      <td>1400/03/01</td>\n",
       "      <td>20.00</td>\n",
       "      <td>ریزآیتمی</td>\n",
       "      <td>آیلند ها</td>\n",
       "      <td>آیلند بلوار ابوذر و لچکی ها</td>\n",
       "      <td>پرچین</td>\n",
       "      <td>متر مربع</td>\n",
       "      <td>1,704.00</td>\n",
       "      <td>1,704.00</td>\n",
       "      <td>2,718.00</td>\n",
       "      <td>122,292.00</td>\n",
       "      <td>0</td>\n",
       "    </tr>\n",
       "    <tr>\n",
       "      <th>3</th>\n",
       "      <td>1,603.00</td>\n",
       "      <td>الف ناحیه 1 منطقه 1</td>\n",
       "      <td>1397/03/01</td>\n",
       "      <td>1400/03/01</td>\n",
       "      <td>20.00</td>\n",
       "      <td>ریزآیتمی</td>\n",
       "      <td>آیلند ها</td>\n",
       "      <td>آیلند بلوار ابوذر و لچکی ها</td>\n",
       "      <td>چمن</td>\n",
       "      <td>آبیاری شلنگی</td>\n",
       "      <td>784.00</td>\n",
       "      <td>784.00</td>\n",
       "      <td>2,718.00</td>\n",
       "      <td>122,292.00</td>\n",
       "      <td>0</td>\n",
       "    </tr>\n",
       "    <tr>\n",
       "      <th>4</th>\n",
       "      <td>1,578.00</td>\n",
       "      <td>الف ناحیه 1 منطقه 1</td>\n",
       "      <td>1397/03/01</td>\n",
       "      <td>1400/03/01</td>\n",
       "      <td>20.00</td>\n",
       "      <td>ریزآیتمی</td>\n",
       "      <td>آیلند ها</td>\n",
       "      <td>آیلند بلوار ابوذر و لچکی ها</td>\n",
       "      <td>چمن</td>\n",
       "      <td>متر مربع</td>\n",
       "      <td>784.00</td>\n",
       "      <td>784.00</td>\n",
       "      <td>2,718.00</td>\n",
       "      <td>122,292.00</td>\n",
       "      <td>0</td>\n",
       "    </tr>\n",
       "    <tr>\n",
       "      <th>5</th>\n",
       "      <td>204.00</td>\n",
       "      <td>الف ناحیه 1 منطقه 1</td>\n",
       "      <td>1397/03/01</td>\n",
       "      <td>1400/03/01</td>\n",
       "      <td>20.00</td>\n",
       "      <td>حجمی</td>\n",
       "      <td>آیلند ها</td>\n",
       "      <td>آیلند بلوار ابوذر و لچکی ها</td>\n",
       "      <td>حفظ و نگهداری پرچین</td>\n",
       "      <td>متر مربع</td>\n",
       "      <td>1,704.00</td>\n",
       "      <td>1,704.00</td>\n",
       "      <td>2,718.00</td>\n",
       "      <td>122,292.00</td>\n",
       "      <td>0</td>\n",
       "    </tr>\n",
       "    <tr>\n",
       "      <th>6</th>\n",
       "      <td>251.00</td>\n",
       "      <td>الف ناحیه 1 منطقه 1</td>\n",
       "      <td>1397/03/01</td>\n",
       "      <td>1400/03/01</td>\n",
       "      <td>20.00</td>\n",
       "      <td>حجمی</td>\n",
       "      <td>آیلند ها</td>\n",
       "      <td>آیلند بلوار ابوذر و لچکی ها</td>\n",
       "      <td>حفظ و نگهداری چمن</td>\n",
       "      <td>متر مربع</td>\n",
       "      <td>784.00</td>\n",
       "      <td>784.00</td>\n",
       "      <td>2,718.00</td>\n",
       "      <td>122,292.00</td>\n",
       "      <td>0</td>\n",
       "    </tr>\n",
       "    <tr>\n",
       "      <th>7</th>\n",
       "      <td>264.00</td>\n",
       "      <td>الف ناحیه 1 منطقه 1</td>\n",
       "      <td>1397/03/01</td>\n",
       "      <td>1400/03/01</td>\n",
       "      <td>20.00</td>\n",
       "      <td>حجمی</td>\n",
       "      <td>آیلند ها</td>\n",
       "      <td>آیلند بلوار ابوذر و لچکی ها</td>\n",
       "      <td>حفظ و نگهداری گل دائمی</td>\n",
       "      <td>متر مربع</td>\n",
       "      <td>210.00</td>\n",
       "      <td>210.00</td>\n",
       "      <td>2,718.00</td>\n",
       "      <td>122,292.00</td>\n",
       "      <td>0</td>\n",
       "    </tr>\n",
       "    <tr>\n",
       "      <th>8</th>\n",
       "      <td>306.00</td>\n",
       "      <td>الف ناحیه 1 منطقه 1</td>\n",
       "      <td>1397/03/01</td>\n",
       "      <td>1400/03/01</td>\n",
       "      <td>20.00</td>\n",
       "      <td>حجمی</td>\n",
       "      <td>آیلند ها</td>\n",
       "      <td>آیلند بلوار ابوذر و لچکی ها</td>\n",
       "      <td>حفظ و نگهداری گل فصلی</td>\n",
       "      <td>متر مربع</td>\n",
       "      <td>20.00</td>\n",
       "      <td>20.00</td>\n",
       "      <td>2,718.00</td>\n",
       "      <td>122,292.00</td>\n",
       "      <td>0</td>\n",
       "    </tr>\n",
       "    <tr>\n",
       "      <th>9</th>\n",
       "      <td>323.00</td>\n",
       "      <td>الف ناحیه 1 منطقه 1</td>\n",
       "      <td>1397/03/01</td>\n",
       "      <td>1400/03/01</td>\n",
       "      <td>20.00</td>\n",
       "      <td>ریزآیتمی</td>\n",
       "      <td>آیلند ها</td>\n",
       "      <td>آیلند بلوار ابوذر و لچکی ها</td>\n",
       "      <td>درخت و درختچه</td>\n",
       "      <td>اصله</td>\n",
       "      <td>365.00</td>\n",
       "      <td>365.00</td>\n",
       "      <td>2,718.00</td>\n",
       "      <td>122,292.00</td>\n",
       "      <td>0</td>\n",
       "    </tr>\n",
       "    <tr>\n",
       "      <th>...</th>\n",
       "      <td>...</td>\n",
       "      <td>...</td>\n",
       "      <td>...</td>\n",
       "      <td>...</td>\n",
       "      <td>...</td>\n",
       "      <td>...</td>\n",
       "      <td>...</td>\n",
       "      <td>...</td>\n",
       "      <td>...</td>\n",
       "      <td>...</td>\n",
       "      <td>...</td>\n",
       "      <td>...</td>\n",
       "      <td>...</td>\n",
       "      <td>...</td>\n",
       "      <td>...</td>\n",
       "    </tr>\n",
       "    <tr>\n",
       "      <th>61455</th>\n",
       "      <td>nan</td>\n",
       "      <td>ناحیه 7.1 سازمان پارک‌ها</td>\n",
       "      <td>NaN</td>\n",
       "      <td>NaN</td>\n",
       "      <td>nan</td>\n",
       "      <td>NaN</td>\n",
       "      <td>پارک های بین 6 تا 10 هکتار</td>\n",
       "      <td>پارک ریحانه</td>\n",
       "      <td>چمن</td>\n",
       "      <td>متر مربع</td>\n",
       "      <td>nan</td>\n",
       "      <td>8,950.00</td>\n",
       "      <td>82,094.00</td>\n",
       "      <td>256,862.00</td>\n",
       "      <td>NaN</td>\n",
       "    </tr>\n",
       "    <tr>\n",
       "      <th>61456</th>\n",
       "      <td>nan</td>\n",
       "      <td>ناحیه 7.1 سازمان پارک‌ها</td>\n",
       "      <td>NaN</td>\n",
       "      <td>NaN</td>\n",
       "      <td>nan</td>\n",
       "      <td>NaN</td>\n",
       "      <td>پارک های بین 6 تا 10 هکتار</td>\n",
       "      <td>پارک ریحانه</td>\n",
       "      <td>گل دائم باغچه های معمولی</td>\n",
       "      <td>آبیاری شلنگی</td>\n",
       "      <td>nan</td>\n",
       "      <td>6,612.00</td>\n",
       "      <td>82,094.00</td>\n",
       "      <td>256,862.00</td>\n",
       "      <td>NaN</td>\n",
       "    </tr>\n",
       "    <tr>\n",
       "      <th>61457</th>\n",
       "      <td>nan</td>\n",
       "      <td>ناحیه 7.1 سازمان پارک‌ها</td>\n",
       "      <td>NaN</td>\n",
       "      <td>NaN</td>\n",
       "      <td>nan</td>\n",
       "      <td>NaN</td>\n",
       "      <td>پارک های بین 6 تا 10 هکتار</td>\n",
       "      <td>پارک ریحانه</td>\n",
       "      <td>گل دائم باغچه های معمولی</td>\n",
       "      <td>متر مربع</td>\n",
       "      <td>nan</td>\n",
       "      <td>6,612.00</td>\n",
       "      <td>82,094.00</td>\n",
       "      <td>256,862.00</td>\n",
       "      <td>NaN</td>\n",
       "    </tr>\n",
       "    <tr>\n",
       "      <th>61458</th>\n",
       "      <td>nan</td>\n",
       "      <td>ناحیه 7.1 سازمان پارک‌ها</td>\n",
       "      <td>NaN</td>\n",
       "      <td>NaN</td>\n",
       "      <td>nan</td>\n",
       "      <td>NaN</td>\n",
       "      <td>پارک های بین 6 تا 10 هکتار</td>\n",
       "      <td>پارک ریحانه</td>\n",
       "      <td>گل فصل باغچه های معمولی</td>\n",
       "      <td>آبیاری شلنگی</td>\n",
       "      <td>nan</td>\n",
       "      <td>1,513.00</td>\n",
       "      <td>82,094.00</td>\n",
       "      <td>256,862.00</td>\n",
       "      <td>NaN</td>\n",
       "    </tr>\n",
       "    <tr>\n",
       "      <th>61459</th>\n",
       "      <td>nan</td>\n",
       "      <td>ناحیه 7.1 سازمان پارک‌ها</td>\n",
       "      <td>NaN</td>\n",
       "      <td>NaN</td>\n",
       "      <td>nan</td>\n",
       "      <td>NaN</td>\n",
       "      <td>پارک های بین 6 تا 10 هکتار</td>\n",
       "      <td>پارک ریحانه</td>\n",
       "      <td>گل فصل باغچه های معمولی</td>\n",
       "      <td>متر مربع</td>\n",
       "      <td>nan</td>\n",
       "      <td>1,513.00</td>\n",
       "      <td>82,094.00</td>\n",
       "      <td>256,862.00</td>\n",
       "      <td>NaN</td>\n",
       "    </tr>\n",
       "    <tr>\n",
       "      <th>61460</th>\n",
       "      <td>nan</td>\n",
       "      <td>ناحیه 7.1 سازمان پارک‌ها</td>\n",
       "      <td>NaN</td>\n",
       "      <td>NaN</td>\n",
       "      <td>nan</td>\n",
       "      <td>NaN</td>\n",
       "      <td>پارک های بین 6 تا 10 هکتار</td>\n",
       "      <td>پارک ریحانه</td>\n",
       "      <td>پرچین</td>\n",
       "      <td>آبیاری شلنگی</td>\n",
       "      <td>nan</td>\n",
       "      <td>5,612.00</td>\n",
       "      <td>82,094.00</td>\n",
       "      <td>256,862.00</td>\n",
       "      <td>NaN</td>\n",
       "    </tr>\n",
       "    <tr>\n",
       "      <th>61461</th>\n",
       "      <td>nan</td>\n",
       "      <td>ناحیه 7.1 سازمان پارک‌ها</td>\n",
       "      <td>NaN</td>\n",
       "      <td>NaN</td>\n",
       "      <td>nan</td>\n",
       "      <td>NaN</td>\n",
       "      <td>پارک های بین 6 تا 10 هکتار</td>\n",
       "      <td>پارک ریحانه</td>\n",
       "      <td>پرچین</td>\n",
       "      <td>متر مربع</td>\n",
       "      <td>nan</td>\n",
       "      <td>5,612.00</td>\n",
       "      <td>82,094.00</td>\n",
       "      <td>256,862.00</td>\n",
       "      <td>NaN</td>\n",
       "    </tr>\n",
       "    <tr>\n",
       "      <th>61462</th>\n",
       "      <td>nan</td>\n",
       "      <td>ناحیه 7.1 سازمان پارک‌ها</td>\n",
       "      <td>NaN</td>\n",
       "      <td>NaN</td>\n",
       "      <td>nan</td>\n",
       "      <td>NaN</td>\n",
       "      <td>پارک های بین 6 تا 10 هکتار</td>\n",
       "      <td>پارک ریحانه</td>\n",
       "      <td>درخت و درختچه</td>\n",
       "      <td>آبیاری شلنگی</td>\n",
       "      <td>nan</td>\n",
       "      <td>3,936.00</td>\n",
       "      <td>82,094.00</td>\n",
       "      <td>256,862.00</td>\n",
       "      <td>NaN</td>\n",
       "    </tr>\n",
       "    <tr>\n",
       "      <th>61463</th>\n",
       "      <td>nan</td>\n",
       "      <td>ناحیه 7.1 سازمان پارک‌ها</td>\n",
       "      <td>NaN</td>\n",
       "      <td>NaN</td>\n",
       "      <td>nan</td>\n",
       "      <td>NaN</td>\n",
       "      <td>پارک های بین 6 تا 10 هکتار</td>\n",
       "      <td>پارک ریحانه</td>\n",
       "      <td>درخت و درختچه</td>\n",
       "      <td>آبیاری تانکری</td>\n",
       "      <td>nan</td>\n",
       "      <td>54,487.00</td>\n",
       "      <td>82,094.00</td>\n",
       "      <td>256,862.00</td>\n",
       "      <td>NaN</td>\n",
       "    </tr>\n",
       "    <tr>\n",
       "      <th>61464</th>\n",
       "      <td>nan</td>\n",
       "      <td>ناحیه 7.1 سازمان پارک‌ها</td>\n",
       "      <td>NaN</td>\n",
       "      <td>NaN</td>\n",
       "      <td>nan</td>\n",
       "      <td>NaN</td>\n",
       "      <td>پارک های بین 6 تا 10 هکتار</td>\n",
       "      <td>پارک ریحانه</td>\n",
       "      <td>درخت و درختچه</td>\n",
       "      <td>متر مربع</td>\n",
       "      <td>nan</td>\n",
       "      <td>58,423.00</td>\n",
       "      <td>82,094.00</td>\n",
       "      <td>256,862.00</td>\n",
       "      <td>NaN</td>\n",
       "    </tr>\n",
       "  </tbody>\n",
       "</table>\n",
       "<p>61465 rows × 15 columns</p>\n",
       "</div>"
      ],
      "text/plain": [
       "          ردیف                     پیمان تاریخ شروع پیمان تاریخ پایان پیمان  \\\n",
       "0     1,544.00       الف ناحیه 1 منطقه 1       1397/03/01        1400/03/01   \n",
       "1     1,458.00       الف ناحیه 1 منطقه 1       1397/03/01        1400/03/01   \n",
       "2     1,486.00       الف ناحیه 1 منطقه 1       1397/03/01        1400/03/01   \n",
       "3     1,603.00       الف ناحیه 1 منطقه 1       1397/03/01        1400/03/01   \n",
       "4     1,578.00       الف ناحیه 1 منطقه 1       1397/03/01        1400/03/01   \n",
       "5       204.00       الف ناحیه 1 منطقه 1       1397/03/01        1400/03/01   \n",
       "6       251.00       الف ناحیه 1 منطقه 1       1397/03/01        1400/03/01   \n",
       "7       264.00       الف ناحیه 1 منطقه 1       1397/03/01        1400/03/01   \n",
       "8       306.00       الف ناحیه 1 منطقه 1       1397/03/01        1400/03/01   \n",
       "9       323.00       الف ناحیه 1 منطقه 1       1397/03/01        1400/03/01   \n",
       "...        ...                       ...              ...               ...   \n",
       "61455      nan  ناحیه 7.1 سازمان پارک‌ها              NaN               NaN   \n",
       "61456      nan  ناحیه 7.1 سازمان پارک‌ها              NaN               NaN   \n",
       "61457      nan  ناحیه 7.1 سازمان پارک‌ها              NaN               NaN   \n",
       "61458      nan  ناحیه 7.1 سازمان پارک‌ها              NaN               NaN   \n",
       "61459      nan  ناحیه 7.1 سازمان پارک‌ها              NaN               NaN   \n",
       "61460      nan  ناحیه 7.1 سازمان پارک‌ها              NaN               NaN   \n",
       "61461      nan  ناحیه 7.1 سازمان پارک‌ها              NaN               NaN   \n",
       "61462      nan  ناحیه 7.1 سازمان پارک‌ها              NaN               NaN   \n",
       "61463      nan  ناحیه 7.1 سازمان پارک‌ها              NaN               NaN   \n",
       "61464      nan  ناحیه 7.1 سازمان پارک‌ها              NaN               NaN   \n",
       "\n",
       "       آخرین شماره صورت وضعیت تاکنون  نوع آیتم                     نوع لکه  \\\n",
       "0                              20.00  ریزآیتمی                    آیلند ها   \n",
       "1                              20.00  ریزآیتمی                    آیلند ها   \n",
       "2                              20.00  ریزآیتمی                    آیلند ها   \n",
       "3                              20.00  ریزآیتمی                    آیلند ها   \n",
       "4                              20.00  ریزآیتمی                    آیلند ها   \n",
       "5                              20.00      حجمی                    آیلند ها   \n",
       "6                              20.00      حجمی                    آیلند ها   \n",
       "7                              20.00      حجمی                    آیلند ها   \n",
       "8                              20.00      حجمی                    آیلند ها   \n",
       "9                              20.00  ریزآیتمی                    آیلند ها   \n",
       "...                              ...       ...                         ...   \n",
       "61455                            nan       NaN  پارک های بین 6 تا 10 هکتار   \n",
       "61456                            nan       NaN  پارک های بین 6 تا 10 هکتار   \n",
       "61457                            nan       NaN  پارک های بین 6 تا 10 هکتار   \n",
       "61458                            nan       NaN  پارک های بین 6 تا 10 هکتار   \n",
       "61459                            nan       NaN  پارک های بین 6 تا 10 هکتار   \n",
       "61460                            nan       NaN  پارک های بین 6 تا 10 هکتار   \n",
       "61461                            nan       NaN  پارک های بین 6 تا 10 هکتار   \n",
       "61462                            nan       NaN  پارک های بین 6 تا 10 هکتار   \n",
       "61463                            nan       NaN  پارک های بین 6 تا 10 هکتار   \n",
       "61464                            nan       NaN  پارک های بین 6 تا 10 هکتار   \n",
       "\n",
       "                           نام لکه                   نوع قلم زیرمجموعه هر قلم  \\\n",
       "0      آیلند بلوار ابوذر و لچکی ها                     پرچین    آبیاری تانکری   \n",
       "1      آیلند بلوار ابوذر و لچکی ها                     پرچین     آبیاری شلنگی   \n",
       "2      آیلند بلوار ابوذر و لچکی ها                     پرچین         متر مربع   \n",
       "3      آیلند بلوار ابوذر و لچکی ها                       چمن     آبیاری شلنگی   \n",
       "4      آیلند بلوار ابوذر و لچکی ها                       چمن         متر مربع   \n",
       "5      آیلند بلوار ابوذر و لچکی ها       حفظ و نگهداری پرچین         متر مربع   \n",
       "6      آیلند بلوار ابوذر و لچکی ها         حفظ و نگهداری چمن         متر مربع   \n",
       "7      آیلند بلوار ابوذر و لچکی ها    حفظ و نگهداری گل دائمی         متر مربع   \n",
       "8      آیلند بلوار ابوذر و لچکی ها     حفظ و نگهداری گل فصلی         متر مربع   \n",
       "9      آیلند بلوار ابوذر و لچکی ها             درخت و درختچه             اصله   \n",
       "...                            ...                       ...              ...   \n",
       "61455                  پارک ریحانه                       چمن         متر مربع   \n",
       "61456                  پارک ریحانه  گل دائم باغچه های معمولی     آبیاری شلنگی   \n",
       "61457                  پارک ریحانه  گل دائم باغچه های معمولی         متر مربع   \n",
       "61458                  پارک ریحانه   گل فصل باغچه های معمولی     آبیاری شلنگی   \n",
       "61459                  پارک ریحانه   گل فصل باغچه های معمولی         متر مربع   \n",
       "61460                  پارک ریحانه                     پرچین     آبیاری شلنگی   \n",
       "61461                  پارک ریحانه                     پرچین         متر مربع   \n",
       "61462                  پارک ریحانه             درخت و درختچه     آبیاری شلنگی   \n",
       "61463                  پارک ریحانه             درخت و درختچه    آبیاری تانکری   \n",
       "61464                  پارک ریحانه             درخت و درختچه         متر مربع   \n",
       "\n",
       "       مقدار در صورتجلسه تحویل و تحول  نمایش آخرین ریزمتره (ریزمتره نهایی)  \\\n",
       "0                            1,405.00                             1,405.00   \n",
       "1                              299.00                               299.00   \n",
       "2                            1,704.00                             1,704.00   \n",
       "3                              784.00                               784.00   \n",
       "4                              784.00                               784.00   \n",
       "5                            1,704.00                             1,704.00   \n",
       "6                              784.00                               784.00   \n",
       "7                              210.00                               210.00   \n",
       "8                               20.00                                20.00   \n",
       "9                              365.00                               365.00   \n",
       "...                               ...                                  ...   \n",
       "61455                             nan                             8,950.00   \n",
       "61456                             nan                             6,612.00   \n",
       "61457                             nan                             6,612.00   \n",
       "61458                             nan                             1,513.00   \n",
       "61459                             nan                             1,513.00   \n",
       "61460                             nan                             5,612.00   \n",
       "61461                             nan                             5,612.00   \n",
       "61462                             nan                             3,936.00   \n",
       "61463                             nan                            54,487.00   \n",
       "61464                             nan                            58,423.00   \n",
       "\n",
       "       مساحت لکه (مترمربع)  مساحت پیمان (مترمربع)  \\\n",
       "0                 2,718.00             122,292.00   \n",
       "1                 2,718.00             122,292.00   \n",
       "2                 2,718.00             122,292.00   \n",
       "3                 2,718.00             122,292.00   \n",
       "4                 2,718.00             122,292.00   \n",
       "5                 2,718.00             122,292.00   \n",
       "6                 2,718.00             122,292.00   \n",
       "7                 2,718.00             122,292.00   \n",
       "8                 2,718.00             122,292.00   \n",
       "9                 2,718.00             122,292.00   \n",
       "...                    ...                    ...   \n",
       "61455            82,094.00             256,862.00   \n",
       "61456            82,094.00             256,862.00   \n",
       "61457            82,094.00             256,862.00   \n",
       "61458            82,094.00             256,862.00   \n",
       "61459            82,094.00             256,862.00   \n",
       "61460            82,094.00             256,862.00   \n",
       "61461            82,094.00             256,862.00   \n",
       "61462            82,094.00             256,862.00   \n",
       "61463            82,094.00             256,862.00   \n",
       "61464            82,094.00             256,862.00   \n",
       "\n",
       "      میزان افزایش/کاهش ریزمتره (تعداد)  \n",
       "0                                     0  \n",
       "1                                     0  \n",
       "2                                     0  \n",
       "3                                     0  \n",
       "4                                     0  \n",
       "5                                     0  \n",
       "6                                     0  \n",
       "7                                     0  \n",
       "8                                     0  \n",
       "9                                     0  \n",
       "...                                 ...  \n",
       "61455                               NaN  \n",
       "61456                               NaN  \n",
       "61457                               NaN  \n",
       "61458                               NaN  \n",
       "61459                               NaN  \n",
       "61460                               NaN  \n",
       "61461                               NaN  \n",
       "61462                               NaN  \n",
       "61463                               NaN  \n",
       "61464                               NaN  \n",
       "\n",
       "[61465 rows x 15 columns]"
      ]
     },
     "execution_count": 5,
     "metadata": {},
     "output_type": "execute_result"
    }
   ],
   "source": [
    "raw_data = pd.read_excel(PROJECT_PATH + 'Data/Processed_Data/Merged_Data.xlsx')\n",
    "raw_data"
   ]
  },
  {
   "cell_type": "markdown",
   "metadata": {},
   "source": [
    "<div style=\"line-height:600%; background-color:#595959\">\n",
    "    <font color=white face=\"DejaVu Serif\" size=5>\n",
    "        <div align=center>            \n",
    "            Data Cleansing            \n",
    "        </div>\n",
    "    </font>    \n",
    "</div>"
   ]
  },
  {
   "cell_type": "markdown",
   "metadata": {},
   "source": [
    "<div style=\"line-height:300%; background-color:black\">\n",
    "    <font color=white face=\"DejaVu Serif\" size=3>\n",
    "        <div align=center>\n",
    "        حذف سطرهای تکراری\n",
    "        </div>\n",
    "    </font>    \n",
    "</div>"
   ]
  },
  {
   "cell_type": "markdown",
   "metadata": {},
   "source": [
    "### Report Duplicated Rows"
   ]
  },
  {
   "cell_type": "code",
   "execution_count": null,
   "metadata": {
    "scrolled": true
   },
   "outputs": [],
   "source": [
    "tmp = raw_data[raw_data.duplicated(subset=list(raw_data.columns)[1:], keep=False)]\n",
    "tmp = tmp.sort_values(['پیمان', 'نام لکه', 'نوع قلم', 'زیرمجموعه هر قلم'])\n",
    "tmp.to_excel(PROJECT_PATH + \"Report/Duplicate_Rows.xlsx\", index=False)\n",
    "print(f\"Total Number of Duplicate Rows in a Data: {tmp.shape[0]}\")\n",
    "\n",
    "tmp = raw_data[raw_data.duplicated(subset=list(raw_data.columns)[1:], keep='first')]\n",
    "print(f\"Total Number of Duplicate Items in a Data: {tmp.shape[0]}\")"
   ]
  },
  {
   "cell_type": "markdown",
   "metadata": {},
   "source": [
    "### Remove Duplicated Rows"
   ]
  },
  {
   "cell_type": "code",
   "execution_count": null,
   "metadata": {
    "scrolled": true
   },
   "outputs": [],
   "source": [
    "raw_data = raw_data.drop_duplicates(subset=list(raw_data.columns)[1:], keep='first')\n",
    "print(f\"Data Size: {raw_data.shape}\")"
   ]
  },
  {
   "cell_type": "markdown",
   "metadata": {},
   "source": [
    "<div style=\"line-height:300%; background-color:black\">\n",
    "    <font color=white face=\"DejaVu Serif\" size=3>\n",
    "        <div align=center>\n",
    "حذف سطر هایی که «نوع آیتم» آنها برابر با «حجمی» میباشد        </div>\n",
    "    </font>    \n",
    "</div>"
   ]
  },
  {
   "cell_type": "code",
   "execution_count": null,
   "metadata": {},
   "outputs": [],
   "source": [
    "raw_data[\"نوع آیتم\"].value_counts(dropna=False)"
   ]
  },
  {
   "cell_type": "markdown",
   "metadata": {},
   "source": [
    "### گزارش - فقط حجمی"
   ]
  },
  {
   "cell_type": "code",
   "execution_count": null,
   "metadata": {},
   "outputs": [],
   "source": [
    "pd.set_option('display.min_rows', 100)\n",
    "pd.set_option('display.max_rows', 100)\n",
    "\n",
    "tmp = raw_data[\"نوع آیتم\"] == \"حجمی\"\n",
    "pd.DataFrame(raw_data[tmp].groupby(['نوع قلم', 'زیرمجموعه هر قلم']).size()).rename(columns={0 : 'تعداد'})"
   ]
  },
  {
   "cell_type": "markdown",
   "metadata": {},
   "source": [
    "### گزارش - فقط ریزآیتمی"
   ]
  },
  {
   "cell_type": "code",
   "execution_count": null,
   "metadata": {},
   "outputs": [],
   "source": [
    "pd.set_option('display.min_rows', 100)\n",
    "pd.set_option('display.max_rows', 100)\n",
    "\n",
    "tmp = raw_data[\"نوع آیتم\"] == \"ریزآیتمی\"\n",
    "pd.DataFrame(raw_data[tmp].groupby(['نوع قلم', 'زیرمجموعه هر قلم']).size()).rename(columns={0 : 'تعداد'})"
   ]
  },
  {
   "cell_type": "markdown",
   "metadata": {},
   "source": [
    "### حذف نوع آیتم حجمی"
   ]
  },
  {
   "cell_type": "code",
   "execution_count": null,
   "metadata": {
    "scrolled": true
   },
   "outputs": [],
   "source": [
    "tmp = raw_data[\"نوع آیتم\"] == \"حجمی\"\n",
    "tmp = tmp[tmp.values == True]\n",
    "raw_data.drop(index=tmp.index, inplace=True)\n",
    "print(f\"Data Size: {raw_data.shape}\")"
   ]
  },
  {
   "cell_type": "markdown",
   "metadata": {},
   "source": [
    "<div style=\"line-height:300%; background-color:black\">\n",
    "    <font color=white face=\"DejaVu Serif\" size=3>\n",
    "        <div align=center>            \n",
    "            استخراج منطقه - ناحیه - پیمان - آدرس \n",
    "        </div>\n",
    "    </font>    \n",
    "</div>"
   ]
  },
  {
   "cell_type": "markdown",
   "metadata": {},
   "source": [
    "### Extract Region"
   ]
  },
  {
   "cell_type": "code",
   "execution_count": null,
   "metadata": {},
   "outputs": [],
   "source": [
    "raw_data[\"Region\"] = raw_data[\"پیمان\"].str.strip().str.split().apply(extractRD, para=\"منطقه\")"
   ]
  },
  {
   "cell_type": "markdown",
   "metadata": {},
   "source": [
    "### Extract District"
   ]
  },
  {
   "cell_type": "code",
   "execution_count": null,
   "metadata": {},
   "outputs": [],
   "source": [
    "raw_data[\"District\"] = raw_data[\"پیمان\"].str.strip().str.split().apply(extractRD, para=\"ناحیه\")"
   ]
  },
  {
   "cell_type": "markdown",
   "metadata": {},
   "source": [
    "### Extract Peyman"
   ]
  },
  {
   "cell_type": "code",
   "execution_count": null,
   "metadata": {},
   "outputs": [],
   "source": [
    "# Extract Uniqe Peyman\n",
    "Peymans = pd.DataFrame(raw_data.groupby(['Region', 'District'])['پیمان'].value_counts(dropna=False, sort=False))\n",
    "Peymans = Peymans.rename(columns ={'پیمان': 'NumberPeyman'}).reset_index()\n",
    "Peymans['Peyman'] = range(1, Peymans.shape[0] + 1)\n",
    "Peymans['Peyman'] = Peymans['Peyman'].astype(str).str.zfill(2)\n",
    "\n",
    "Peyman = []\n",
    "for R in list(Peymans['Region'].unique()):\n",
    "    PeymansR = Peymans[Peymans['Region'] == R]\n",
    "    for D in list(PeymansR['District'].unique()):\n",
    "        PeymansD = PeymansR[PeymansR['District'] == D]\n",
    "        Peyman += list(range(1, len(PeymansD) + 1))\n",
    "\n",
    "Peymans['Peyman'] = Peyman\n",
    "Peymans['Peyman'] = Peymans['Peyman'].astype(str).str.zfill(2)\n",
    "\n",
    "# Add Peyman To raw_data\n",
    "raw_data = pd.merge(raw_data, Peymans[['Region', 'District', 'پیمان', 'Peyman']], how='left', left_on=['Region', 'District', 'پیمان'], right_on=['Region', 'District', 'پیمان'])"
   ]
  },
  {
   "cell_type": "markdown",
   "metadata": {},
   "source": [
    "### Extract Address"
   ]
  },
  {
   "cell_type": "code",
   "execution_count": null,
   "metadata": {
    "scrolled": true
   },
   "outputs": [],
   "source": [
    "# Extract Uniqe Address\n",
    "Address = pd.DataFrame(raw_data.groupby(['Region', 'District', 'Peyman'])['نام لکه'].value_counts(dropna=False, sort=False))\n",
    "Address = Address.rename(columns ={'نام لکه': 'Count'}).reset_index()\n",
    "\n",
    "Address_Class = []\n",
    "for R in list(Address['Region'].unique()):\n",
    "    AddressR = Address[Address['Region'] == R]\n",
    "    for D in list(AddressR['District'].unique()):\n",
    "        AddressD = AddressR[AddressR['District'] == D]\n",
    "        for P in list(AddressD['Peyman'].unique()):\n",
    "            AddressP = AddressD[AddressD['Peyman'] == P]\n",
    "            Address_Class += list(range(1, len(AddressP) + 1))\n",
    "\n",
    "Address['Address'] = Address_Class\n",
    "Address['Address'] = Address['Address'].astype(str).str.zfill(3)\n",
    "\n",
    "# Add Address To raw_data\n",
    "raw_data = pd.merge(raw_data, Address[['Region', 'District', 'Peyman', 'نام لکه', 'Address']], how='left', left_on=['Region', 'District', 'Peyman', 'نام لکه'], right_on=['Region', 'District', 'Peyman', 'نام لکه'])"
   ]
  },
  {
   "cell_type": "markdown",
   "metadata": {},
   "source": [
    "<div style=\"line-height:200%; background-color:green\">\n",
    "    <font color=white face=\"DejaVu Serif\" size=5>\n",
    "        <div align=center>            \n",
    "            Create Report ...          \n",
    "        </div>\n",
    "    </font>    \n",
    "</div>"
   ]
  },
  {
   "cell_type": "markdown",
   "metadata": {},
   "source": [
    "### Check Region"
   ]
  },
  {
   "cell_type": "code",
   "execution_count": null,
   "metadata": {
    "scrolled": true
   },
   "outputs": [],
   "source": [
    "raw_data['Region'].value_counts(dropna=False, sort=True)"
   ]
  },
  {
   "cell_type": "markdown",
   "metadata": {},
   "source": [
    "### Check District"
   ]
  },
  {
   "cell_type": "code",
   "execution_count": null,
   "metadata": {
    "scrolled": false
   },
   "outputs": [],
   "source": [
    "raw_data['District'].value_counts(dropna=False, sort=True)"
   ]
  },
  {
   "cell_type": "markdown",
   "metadata": {},
   "source": [
    "### Check Peyman"
   ]
  },
  {
   "cell_type": "code",
   "execution_count": null,
   "metadata": {
    "scrolled": true
   },
   "outputs": [],
   "source": [
    "raw_data['Peyman'].value_counts(dropna=False)"
   ]
  },
  {
   "cell_type": "markdown",
   "metadata": {},
   "source": [
    "### Check Address"
   ]
  },
  {
   "cell_type": "code",
   "execution_count": null,
   "metadata": {},
   "outputs": [],
   "source": [
    "raw_data['Address'].value_counts(dropna=False)"
   ]
  },
  {
   "cell_type": "markdown",
   "metadata": {},
   "source": [
    "### Check Region, District and Peyman"
   ]
  },
  {
   "cell_type": "code",
   "execution_count": null,
   "metadata": {},
   "outputs": [],
   "source": [
    "pd.DataFrame(raw_data.astype(str).groupby(['Region', 'District', 'Peyman', 'پیمان']).size()).rename(columns ={0: 'Count'})"
   ]
  },
  {
   "cell_type": "markdown",
   "metadata": {},
   "source": [
    "### Report of Region, District, Peyman"
   ]
  },
  {
   "cell_type": "code",
   "execution_count": null,
   "metadata": {},
   "outputs": [],
   "source": [
    "tmp = pd.DataFrame(raw_data.astype(str).groupby(['Region', 'District', 'Peyman', 'پیمان']).size())\n",
    "tmp = tmp.rename(columns ={0: 'Count'})\n",
    "tmp.to_excel(PROJECT_PATH + \"Report/Region_District_Peyman.xlsx\", index=True)"
   ]
  },
  {
   "cell_type": "markdown",
   "metadata": {},
   "source": [
    "### Report of Region, District, Peyman, Address"
   ]
  },
  {
   "cell_type": "code",
   "execution_count": null,
   "metadata": {},
   "outputs": [],
   "source": [
    "tmp = Address.set_index(keys=['Region', 'District', 'Peyman', 'Address'])\n",
    "tmp.to_excel(PROJECT_PATH + \"Report/Region_District_Peyman_Address.xlsx\", index=True)"
   ]
  },
  {
   "cell_type": "markdown",
   "metadata": {},
   "source": [
    "<div style=\"line-height:200%; background-color:green\">\n",
    "    <font color=white face=\"DejaVu Serif\" size=5>\n",
    "        <div align=center>            \n",
    "            ... Create Report        \n",
    "        </div>\n",
    "    </font>    \n",
    "</div>"
   ]
  },
  {
   "cell_type": "markdown",
   "metadata": {},
   "source": [
    "<div style=\"line-height:300%; background-color:black\">\n",
    "    <font color=white face=\"DejaVu Serif\" size=3>\n",
    "        <div align=center>            \n",
    "            استخراج شکل لکه \n",
    "        </div>\n",
    "    </font>    \n",
    "</div>"
   ]
  },
  {
   "cell_type": "markdown",
   "metadata": {},
   "source": [
    "### Define Spots Class"
   ]
  },
  {
   "cell_type": "code",
   "execution_count": null,
   "metadata": {
    "scrolled": true
   },
   "outputs": [],
   "source": [
    "Spots_Class = {\n",
    "    'میادین' : '01',\n",
    "    'لچکی ها' : '02',\n",
    "    'آیلند های بزرگراه' : '03',\n",
    "    'آیلند ها' : '04',\n",
    "    'حاشیه های بزرگراه' : '05',\n",
    "    'حاشیه معابر' : '06',\n",
    "    'بوستان خطی' : '07',\n",
    "    'پارک های زیر 6 هکتار' : '08',\n",
    "    'پارک های بین 6 تا 10 هکتار' : '09',\n",
    "    'پارک های بالای 10 هکتار' : '10',\n",
    "    'جنگل کاری داخل محدوده' : '11',\n",
    "    'کمربندی' : '12',\n",
    "    'کمربند سبز حفاظتی' : '13',\n",
    "}"
   ]
  },
  {
   "cell_type": "markdown",
   "metadata": {},
   "source": [
    "### Extract All Spots Class In Data"
   ]
  },
  {
   "cell_type": "code",
   "execution_count": null,
   "metadata": {
    "scrolled": true
   },
   "outputs": [],
   "source": [
    "raw_data_spots = raw_data['نوع لکه'].value_counts(dropna=False, sort=True).reset_index().rename(columns ={'index': 'نوع لکه', 'نوع لکه': 'Count'})\n",
    "raw_data_spots"
   ]
  },
  {
   "cell_type": "markdown",
   "metadata": {},
   "source": [
    "### Add Spots Class to raw_data_spots"
   ]
  },
  {
   "cell_type": "code",
   "execution_count": null,
   "metadata": {},
   "outputs": [],
   "source": [
    "raw_data_spots['Spot'] = list(map(Spots_Class.get, raw_data_spots['نوع لکه']))\n",
    "raw_data_spots.to_excel(PROJECT_PATH + 'Report/Type_of_Spot.xlsx', index=False)\n",
    "raw_data_spots"
   ]
  },
  {
   "cell_type": "code",
   "execution_count": null,
   "metadata": {},
   "outputs": [],
   "source": [
    "raw_data = pd.merge(raw_data, raw_data_spots[['نوع لکه', 'Spot']], how='left', left_on=['نوع لکه'], right_on=['نوع لکه'])"
   ]
  },
  {
   "cell_type": "markdown",
   "metadata": {},
   "source": [
    "<div style=\"line-height:300%; background-color:black\">\n",
    "    <font color=white face=\"DejaVu Serif\" size=3>\n",
    "        <div align=center>\n",
    "            استخراج روش آبیاری\n",
    "        </div>\n",
    "    </font>    \n",
    "</div>"
   ]
  },
  {
   "cell_type": "markdown",
   "metadata": {},
   "source": [
    "### Irrigation Method Class"
   ]
  },
  {
   "cell_type": "code",
   "execution_count": null,
   "metadata": {},
   "outputs": [],
   "source": [
    "Irrigation_Method_Class = {\n",
    "    'آبیاری ثقلی' : '01',\n",
    "    'آبیاری تانکری' : '02',\n",
    "    'آبیاری شلنگی' : '03',\n",
    "    'آبیاری تحت فشار' : '04'\n",
    "}"
   ]
  },
  {
   "cell_type": "markdown",
   "metadata": {},
   "source": [
    "### Extract All Irrigation Method Class In Data"
   ]
  },
  {
   "cell_type": "code",
   "execution_count": null,
   "metadata": {},
   "outputs": [],
   "source": [
    "Irrigation = raw_data['زیرمجموعه هر قلم'].value_counts(dropna=False, sort=True).reset_index().rename(columns ={'index': 'زیرمجموعه هر قلم', 'زیرمجموعه هر قلم': 'Count'})\n",
    "Irrigation['Irrigation'] = list(map(Irrigation_Method_Class.get, Irrigation['زیرمجموعه هر قلم']))\n",
    "Irrigation"
   ]
  },
  {
   "cell_type": "markdown",
   "metadata": {},
   "source": [
    "### Add Irrigation Method Class to raw_data"
   ]
  },
  {
   "cell_type": "code",
   "execution_count": null,
   "metadata": {},
   "outputs": [],
   "source": [
    "raw_data = pd.merge(raw_data, Irrigation[['زیرمجموعه هر قلم', 'Irrigation']], how='left', left_on=['زیرمجموعه هر قلم'], right_on=['زیرمجموعه هر قلم'])\n",
    "raw_data.fillna(value=np.nan, inplace=True)"
   ]
  },
  {
   "cell_type": "markdown",
   "metadata": {},
   "source": [
    "<div style=\"line-height:300%; background-color:black\">\n",
    "    <font color=white face=\"DejaVu Serif\" size=3>\n",
    "        <div align=center>\n",
    "            استخراج نوع گونه        \n",
    "        </div>\n",
    "    </font>    \n",
    "</div>"
   ]
  },
  {
   "cell_type": "markdown",
   "metadata": {},
   "source": [
    "### Show All Species Plant Class In Data"
   ]
  },
  {
   "cell_type": "code",
   "execution_count": null,
   "metadata": {},
   "outputs": [],
   "source": [
    "raw_data['نوع قلم'].value_counts(dropna=False, sort=True).reset_index().rename(columns ={'index': 'نوع قلم', 'نوع قلم': 'Count'})"
   ]
  },
  {
   "cell_type": "markdown",
   "metadata": {},
   "source": [
    "### گزارش «نوع قلم» و «زیرمجموعه قلم» به ترتیب "
   ]
  },
  {
   "cell_type": "code",
   "execution_count": null,
   "metadata": {
    "scrolled": true
   },
   "outputs": [],
   "source": [
    "tmp = pd.DataFrame(raw_data.groupby(['نوع قلم', 'زیرمجموعه هر قلم']).size()).rename(columns={0:'تعداد'})\n",
    "tmp.to_excel(PROJECT_PATH + '/Report/Ghalam_SubGhalam.xlsx', index=True)\n",
    "tmp"
   ]
  },
  {
   "cell_type": "markdown",
   "metadata": {},
   "source": [
    "### گزارش «زیرمجموعه هر قام» و «نوع قلم» به ترتیب"
   ]
  },
  {
   "cell_type": "code",
   "execution_count": null,
   "metadata": {
    "scrolled": true
   },
   "outputs": [],
   "source": [
    "tmp = pd.DataFrame(raw_data.groupby(['زیرمجموعه هر قلم', 'نوع قلم']).size()).rename(columns={0:'تعداد'})\n",
    "tmp.to_excel(PROJECT_PATH + '/Report/SubGhalam_Ghalam.xlsx', index=True)\n",
    "tmp"
   ]
  },
  {
   "cell_type": "markdown",
   "metadata": {},
   "source": [
    "### تعریف کلاس های مختلف گونه"
   ]
  },
  {
   "cell_type": "code",
   "execution_count": null,
   "metadata": {},
   "outputs": [],
   "source": [
    "Species_Plant_Class = {\n",
    "    'چمن' : '01',\n",
    "    'گل دائم باغچه های معمولی' : '02',\n",
    "    'گل دائم فلاورباکسهای سطوح شیب دار' : '04',\n",
    "    'گل فصل باغچه های معمولی' : '05',\n",
    "    'پرچین' : '06',\n",
    "    'درخت و درختچه' : '10',\n",
    "    'درختان جنگلی' : '12',\n",
    "    'گل فصل فلاورباکس های سطوح شیب دار' : '14'   \n",
    "}"
   ]
  },
  {
   "cell_type": "markdown",
   "metadata": {},
   "source": [
    "### Extract All Species Plant Class In Data"
   ]
  },
  {
   "cell_type": "code",
   "execution_count": null,
   "metadata": {},
   "outputs": [],
   "source": [
    "Species = raw_data['نوع قلم'].value_counts(dropna=False, sort=True).reset_index().rename(columns ={'index': 'نوع قلم', 'نوع قلم': 'Count'})\n",
    "Species['Species'] = list(map(Species_Plant_Class.get, Species['نوع قلم']))\n",
    "Species"
   ]
  },
  {
   "cell_type": "markdown",
   "metadata": {},
   "source": [
    "### Add Species Plant Class to raw_data"
   ]
  },
  {
   "cell_type": "code",
   "execution_count": null,
   "metadata": {},
   "outputs": [],
   "source": [
    "raw_data = pd.merge(raw_data, Species[['نوع قلم', 'Species']], how='left', left_on=['نوع قلم'], right_on=['نوع قلم'])\n",
    "raw_data.fillna(value=np.nan, inplace=True)"
   ]
  },
  {
   "cell_type": "markdown",
   "metadata": {},
   "source": [
    "<div style=\"line-height:300%; background-color:black\">\n",
    "    <font color=white face=\"DejaVu Serif\" size=3>\n",
    "        <div align=center>\n",
    "        تولید کد\n",
    "        </div>\n",
    "    </font>    \n",
    "</div>"
   ]
  },
  {
   "cell_type": "markdown",
   "metadata": {},
   "source": [
    "### Check Number of NaN"
   ]
  },
  {
   "cell_type": "code",
   "execution_count": null,
   "metadata": {},
   "outputs": [],
   "source": [
    "raw_data[['Region', 'District', 'Peyman', 'Address', 'Spot', 'Irrigation', 'Species']].isnull().sum()"
   ]
  },
  {
   "cell_type": "markdown",
   "metadata": {},
   "source": [
    "### Generate ID"
   ]
  },
  {
   "cell_type": "code",
   "execution_count": null,
   "metadata": {
    "scrolled": true
   },
   "outputs": [],
   "source": [
    "raw_data = raw_data >> define(ID = 'Region + District + Peyman + Address + \"-\" + Spot + Irrigation + Species')"
   ]
  },
  {
   "cell_type": "markdown",
   "metadata": {},
   "source": [
    "### Check ID"
   ]
  },
  {
   "cell_type": "code",
   "execution_count": null,
   "metadata": {
    "scrolled": true
   },
   "outputs": [],
   "source": [
    "pd.DataFrame(raw_data.astype(str).groupby(['ID']).size()).rename(columns ={0: 'Count'}) >> query(\"Count >= 2\")"
   ]
  },
  {
   "cell_type": "code",
   "execution_count": null,
   "metadata": {},
   "outputs": [],
   "source": [
    "raw_data >> query(\"ID == '020301016-110110'\")"
   ]
  },
  {
   "cell_type": "markdown",
   "metadata": {},
   "source": [
    "### Save Duplicate ID"
   ]
  },
  {
   "cell_type": "code",
   "execution_count": null,
   "metadata": {},
   "outputs": [],
   "source": [
    "tmp = raw_data.dropna(subset=['ID']).duplicated(subset=\"ID\", keep=False)\n",
    "tmp = raw_data.dropna(subset=['ID'])[tmp.values]\n",
    "tmp.to_excel(PROJECT_PATH + '/Report/Duplicate_ID.xlsx', index=False)"
   ]
  },
  {
   "cell_type": "markdown",
   "metadata": {},
   "source": [
    "### Remove Duplicate ID"
   ]
  },
  {
   "cell_type": "code",
   "execution_count": null,
   "metadata": {
    "scrolled": true
   },
   "outputs": [],
   "source": [
    "tmp = raw_data.dropna(subset=['ID']).duplicated(subset=\"ID\", keep='last')\n",
    "tmp = tmp[tmp.values == True].index\n",
    "raw_data.drop(axis=0, index=tmp, inplace=True)"
   ]
  },
  {
   "cell_type": "markdown",
   "metadata": {},
   "source": [
    "### Check Data"
   ]
  },
  {
   "cell_type": "code",
   "execution_count": null,
   "metadata": {},
   "outputs": [],
   "source": [
    "print(f\"Data Size: {raw_data.shape}\")"
   ]
  },
  {
   "cell_type": "markdown",
   "metadata": {},
   "source": [
    "<div style=\"line-height:300%; background-color:black\">\n",
    "    <font color=white face=\"DejaVu Serif\" size=3>\n",
    "        <div align=center>\n",
    "مرتب کردن نام ستون ها        </div>\n",
    "    </font>    \n",
    "</div>"
   ]
  },
  {
   "cell_type": "code",
   "execution_count": null,
   "metadata": {},
   "outputs": [],
   "source": [
    "data = raw_data >> select('ID', 'Region', 'District', 'Peyman','Address', 'Spot', 'Irrigation', 'Species', 'نمایش آخرین ریزمتره (ریزمتره نهایی)', 'مساحت لکه (مترمربع)', 'مساحت پیمان (مترمربع)', 'نوع آیتم', 'نوع لکه', 'نام لکه', 'نوع قلم', 'زیرمجموعه هر قلم', 'پیمان', 'ردیف')"
   ]
  },
  {
   "cell_type": "code",
   "execution_count": null,
   "metadata": {},
   "outputs": [],
   "source": [
    "data.rename(columns={\n",
    "    'نمایش آخرین ریزمتره (ریزمتره نهایی)' : 'Irrigation_Area',\n",
    "    'مساحت لکه (مترمربع)' : 'Address_Area',\n",
    "    'مساحت پیمان (مترمربع)' : 'Peyman_Area',\n",
    "    'نوع آیتم' : 'Item_Type',\n",
    "    'نوع لکه' : 'Lake_Type',\n",
    "    'نام لکه' : 'Lake_Name',\n",
    "    'نوع قلم' : 'Ghalam_Type',\n",
    "    'زیرمجموعه هر قلم' : 'Ghalam_SubType',\n",
    "    'پیمان' : 'Check_point',\n",
    "    'ردیف' : 'Radif'\n",
    "}, inplace=True)\n",
    "\n",
    "data"
   ]
  },
  {
   "cell_type": "markdown",
   "metadata": {},
   "source": [
    "<div style=\"line-height:300%; background-color:black\">\n",
    "    <font color=white face=\"DejaVu Serif\" size=3>\n",
    "        <div align=center>\n",
    "            حذف متر از گونه درخت و درختچه\n",
    "</div>\n",
    "    </font>    \n",
    "</div>"
   ]
  },
  {
   "cell_type": "markdown",
   "metadata": {},
   "source": [
    "### گزارش خطا"
   ]
  },
  {
   "cell_type": "code",
   "execution_count": null,
   "metadata": {},
   "outputs": [],
   "source": [
    "tmp = data >> query('Ghalam_Type == \"درخت و درختچه\" and Ghalam_SubType == \"متر\"')\n",
    "tmp.to_excel(PROJECT_PATH + \"Report/Error_Metr.xlsx\")"
   ]
  },
  {
   "cell_type": "markdown",
   "metadata": {},
   "source": [
    "### اصلاح خطا"
   ]
  },
  {
   "cell_type": "code",
   "execution_count": null,
   "metadata": {},
   "outputs": [],
   "source": [
    "tmp = data >> query('Ghalam_Type == \"درخت و درختچه\" and Ghalam_SubType == \"متر\"')\n",
    "data.loc[list(tmp.index), \"Ghalam_SubType\"] = \"متر مربع\""
   ]
  },
  {
   "cell_type": "markdown",
   "metadata": {},
   "source": [
    "<div style=\"line-height:300%; background-color:black\">\n",
    "    <font color=white face=\"DejaVu Serif\" size=3>\n",
    "        <div align=center>\n",
    "اضافه کردن «متر مربع» و «اصله» به دیتابیس</div>\n",
    "    </font>    \n",
    "</div>"
   ]
  },
  {
   "cell_type": "markdown",
   "metadata": {},
   "source": [
    "### Define Extera Class"
   ]
  },
  {
   "cell_type": "code",
   "execution_count": null,
   "metadata": {},
   "outputs": [],
   "source": [
    "Extera_Class = {\n",
    "    'متر مربع' : '01',\n",
    "    'اصله' : '02'\n",
    "}"
   ]
  },
  {
   "cell_type": "markdown",
   "metadata": {},
   "source": [
    "### Extract All Extera Class In Data"
   ]
  },
  {
   "cell_type": "code",
   "execution_count": null,
   "metadata": {},
   "outputs": [],
   "source": [
    "tmp = data['Ghalam_SubType'].value_counts(dropna=False, sort=True).reset_index().rename(columns ={'index': 'Ghalam_SubType', 'Ghalam_SubType': 'Count'})\n",
    "tmp['Extera'] = list(map(Extera_Class.get, tmp['Ghalam_SubType']))\n",
    "tmp"
   ]
  },
  {
   "cell_type": "markdown",
   "metadata": {},
   "source": [
    "### Add Extera Class to data"
   ]
  },
  {
   "cell_type": "code",
   "execution_count": null,
   "metadata": {},
   "outputs": [],
   "source": [
    "data = pd.merge(data, tmp[['Ghalam_SubType', 'Extera']], how='left', left_on=['Ghalam_SubType'], right_on=['Ghalam_SubType'])\n",
    "data.fillna(value=np.nan, inplace=True)"
   ]
  },
  {
   "cell_type": "markdown",
   "metadata": {},
   "source": [
    "<div style=\"line-height:200%; background-color:green\">\n",
    "    <font color=white face=\"DejaVu Serif\" size=5>\n",
    "        <div align=center>            \n",
    "            Create Report ...          \n",
    "        </div>\n",
    "    </font>    \n",
    "</div>"
   ]
  },
  {
   "cell_type": "markdown",
   "metadata": {},
   "source": [
    "### مقایسه مساحت آبیاری شده - مساحت لکه - مساحت پیمان"
   ]
  },
  {
   "cell_type": "code",
   "execution_count": null,
   "metadata": {},
   "outputs": [],
   "source": [
    "pd.set_option('display.min_rows', 100)\n",
    "pd.set_option('display.max_rows', 100)\n",
    "\n",
    "RDPAI_GROUP = data.groupby(['Region', 'District', 'Peyman', 'Address','Irrigation'])\n",
    "\n",
    "tmp = RDPAI_GROUP.agg({\n",
    "    'Irrigation_Area' : 'sum',\n",
    "    'Address_Area' : 'mean',\n",
    "    'Peyman_Area' : 'mean'\n",
    "})\n",
    "\n",
    "tmp.to_excel(PROJECT_PATH + \"Report/Compare_Irrigated_Address_Peyman_Area.xlsx\", index=True)\n",
    "\n",
    "tmp"
   ]
  },
  {
   "cell_type": "markdown",
   "metadata": {},
   "source": [
    "### مقایسه مجموع مساحت آبیاری شده در هر آدرس با مساحت آن آدرس"
   ]
  },
  {
   "cell_type": "code",
   "execution_count": null,
   "metadata": {},
   "outputs": [],
   "source": [
    "RDPAI_GROUP = data.groupby(['Region', 'District', 'Peyman', 'Address','Irrigation'])\n",
    "\n",
    "tmp = RDPAI_GROUP.agg({\n",
    "    'Irrigation_Area' : 'sum',\n",
    "    'Address_Area' : 'mean',\n",
    "    'Peyman_Area' : 'mean'\n",
    "}).reset_index()\n",
    "\n",
    "RDPA_GROUP = tmp.groupby(['Region', 'District', 'Peyman', 'Address'])\n",
    "\n",
    "tmp = RDPA_GROUP.agg({\n",
    "    'Irrigation_Area' : 'sum',\n",
    "    'Address_Area' : 'mean'\n",
    "})\n",
    "\n",
    "tmp.to_excel(PROJECT_PATH + \"Report/Compare_Irrigated_Address_Area.xlsx\", index=True)\n",
    "\n",
    "tmp"
   ]
  },
  {
   "cell_type": "markdown",
   "metadata": {},
   "source": [
    "### مقایسه مجموع مساحت آبیاری شده در هر پیمان با مساحت آن پیمان"
   ]
  },
  {
   "cell_type": "code",
   "execution_count": null,
   "metadata": {},
   "outputs": [],
   "source": [
    "RDPAI_GROUP = data.groupby(['Region', 'District', 'Peyman', 'Address','Irrigation'])\n",
    "\n",
    "tmp = RDPAI_GROUP.agg({\n",
    "    'Irrigation_Area' : 'sum',\n",
    "    'Address_Area' : 'mean',\n",
    "    'Peyman_Area' : 'mean'\n",
    "}).reset_index()\n",
    "\n",
    "RDP_GROUP = tmp.groupby(['Region', 'District', 'Peyman'])\n",
    "\n",
    "tmp = RDP_GROUP.agg({\n",
    "    'Irrigation_Area' : 'sum',\n",
    "    'Peyman_Area' : 'mean'\n",
    "})\n",
    "\n",
    "tmp.to_excel(PROJECT_PATH + \"Report/Compare_Irrigated_Peyman_Area.xlsx\", index=True)\n",
    "\n",
    "tmp"
   ]
  },
  {
   "cell_type": "markdown",
   "metadata": {},
   "source": [
    "### چک کردن خطای موجود در مساحت پیمان ها"
   ]
  },
  {
   "cell_type": "code",
   "execution_count": null,
   "metadata": {},
   "outputs": [],
   "source": [
    "RDP_GROUP = data.groupby(['Region', 'District', 'Peyman'])\n",
    "\n",
    "tmp = RDP_GROUP.agg({\n",
    "    'Peyman_Area' : ['min', 'max']\n",
    "}).reset_index()\n",
    "\n",
    "tmp.columns = ['Region', 'District', 'Peyman', 'Peyman_Area_min', 'Peyman_Area_max']\n",
    "\n",
    "tmp = tmp >> define(Check = if_else('Peyman_Area_min == Peyman_Area_max', True, False))\n",
    "\n",
    "tmp.to_excel(PROJECT_PATH + \"Report/Peyman_Area_Check.xlsx\", index=False)\n",
    "\n",
    "tmp"
   ]
  },
  {
   "cell_type": "markdown",
   "metadata": {},
   "source": [
    "### مقایسه مساحت آبیاری شده و مساحت گونه"
   ]
  },
  {
   "cell_type": "code",
   "execution_count": null,
   "metadata": {},
   "outputs": [],
   "source": [
    "RDPASI_GROUP = data.groupby(['Region', 'District', 'Peyman', 'Address', 'Species', 'Irrigation'])\n",
    "\n",
    "tmp1 = RDPASI_GROUP.agg({'Irrigation_Area' : 'sum'}).reset_index()\n",
    "\n",
    "tmp1 = tmp1.groupby(['Region', 'District', 'Peyman', 'Address', 'Species']).agg({'Irrigation_Area' : 'sum'})\n",
    "\n",
    "tmp1 = tmp1.reset_index().rename(columns ={'Irrigation_Area': 'Irrigation'})\n",
    "\n",
    "print(tmp1.shape)\n",
    "\n",
    "tmp1"
   ]
  },
  {
   "cell_type": "code",
   "execution_count": null,
   "metadata": {},
   "outputs": [],
   "source": [
    "RDPASE_GROUP = data.groupby(['Region', 'District', 'Peyman', 'Address', 'Species', 'Extera'])\n",
    "\n",
    "tmp2 = RDPASE_GROUP.agg({'Irrigation_Area' : 'sum'}).reset_index()\n",
    "\n",
    "tmp2 = tmp2 >> query(\"Extera == '01'\")\n",
    "\n",
    "tmp2 = tmp2.groupby(['Region', 'District', 'Peyman', 'Address', 'Species']).agg({'Irrigation_Area' : 'sum'})\n",
    "\n",
    "tmp2 = tmp2.reset_index().rename(columns ={'Irrigation_Area': 'Area'})\n",
    "\n",
    "print(tmp2.shape)\n",
    "\n",
    "tmp2"
   ]
  },
  {
   "cell_type": "code",
   "execution_count": null,
   "metadata": {},
   "outputs": [],
   "source": [
    "tmp = outer_join(tmp1, tmp2, on=['Region', 'District', 'Peyman', 'Address', 'Species'])\n",
    "tmp = tmp >> define(Check = if_else('Irrigation == Area', True, False))\n",
    "print(tmp['Check'].value_counts())\n",
    "\n",
    "tmp.to_excel(PROJECT_PATH + 'Report/Check_IrrigationArea_SpeciesArea.xlsx', index=False)\n",
    "tmp"
   ]
  },
  {
   "cell_type": "markdown",
   "metadata": {},
   "source": [
    "### مقایسه مساحت آبیاری شده به تفکیک سیستم آبیاری - پیمان - ناحیه - منطقه"
   ]
  },
  {
   "cell_type": "code",
   "execution_count": null,
   "metadata": {},
   "outputs": [],
   "source": [
    "data.pivot_table(values=\"Irrigation_Area\",\n",
    "                 index=['Region', 'District', 'Peyman'],\n",
    "                 columns=['Irrigation'],\n",
    "                 aggfunc='sum').to_excel(PROJECT_PATH + \"Report/PivotTable_Region_District_Peyman_Irrigation_IrrigationArea.xlsx\")"
   ]
  },
  {
   "cell_type": "markdown",
   "metadata": {},
   "source": [
    "### مقایسه مساحت آبیاری شده به تفکیک نوع گونه - پیمان - ناحیه - منطقه"
   ]
  },
  {
   "cell_type": "code",
   "execution_count": null,
   "metadata": {},
   "outputs": [],
   "source": [
    "data.pivot_table(values=\"Irrigation_Area\",\n",
    "                 index=['Region', 'District', 'Peyman'],\n",
    "                 columns=['Species'],\n",
    "                 aggfunc='sum').to_excel(PROJECT_PATH + \"Report/PivotTable_Region_District_Peyman_Species_IrrigationArea.xlsx\")"
   ]
  },
  {
   "cell_type": "markdown",
   "metadata": {},
   "source": [
    "### مقایسه مساحت آبیاری شده به تفکیک سیستم آبیاری - نوع گونه - پیمان - ناحیه - منطقه"
   ]
  },
  {
   "cell_type": "code",
   "execution_count": null,
   "metadata": {
    "scrolled": false
   },
   "outputs": [],
   "source": [
    "data.pivot_table(values=\"Irrigation_Area\",\n",
    "                 index=['Region', 'District', 'Peyman'],\n",
    "                 columns=['Irrigation', 'Species'],\n",
    "                 aggfunc='sum').to_excel(PROJECT_PATH + \"Report/PivotTable_Region_District_Peyman_Irrigation_Species_IrrigationArea.xlsx\")"
   ]
  },
  {
   "cell_type": "markdown",
   "metadata": {},
   "source": [
    "<div style=\"line-height:200%; background-color:green\">\n",
    "    <font color=white face=\"DejaVu Serif\" size=5>\n",
    "        <div align=center>            \n",
    "            ... Create Report        \n",
    "        </div>\n",
    "    </font>    \n",
    "</div>"
   ]
  },
  {
   "cell_type": "markdown",
   "metadata": {},
   "source": [
    "<div style=\"line-height:600%; background-color:#595959\">\n",
    "    <font color=white face=\"DejaVu Serif\" size=5>\n",
    "        <div align=center>            \n",
    "            Save Data            \n",
    "        </div>\n",
    "    </font>    \n",
    "</div>"
   ]
  },
  {
   "cell_type": "code",
   "execution_count": null,
   "metadata": {},
   "outputs": [],
   "source": [
    "data.to_excel(PROJECT_PATH + \"Report/Data.xlsx\", index=False)"
   ]
  },
  {
   "cell_type": "markdown",
   "metadata": {},
   "source": [
    "<div style=\"line-height:600%; background-color:#595959\">\n",
    "    <font color=white face=\"DejaVu Serif\" size=5>\n",
    "        <div align=center>            \n",
    "            ETc Calculation            \n",
    "        </div>\n",
    "    </font>    \n",
    "</div>"
   ]
  },
  {
   "cell_type": "code",
   "execution_count": null,
   "metadata": {
    "scrolled": true
   },
   "outputs": [],
   "source": [
    "data = data >> define(Species = if_else('Extera == \"02\"', '\"13\"', 'Species'))\n",
    "\n",
    "s = 'Region + District + Peyman + Address + \"-\" + Spot + \"00\" + Species'\n",
    "data = data >> define(ID = if_else('Extera == \"02\"', s, 'ID'))\n",
    "\n",
    "data['Species'].replace(to_replace='nan', value=np.NaN, inplace=True)\n",
    "data['ID'].replace(to_replace='nan', value=np.NaN, inplace=True)\n",
    "\n",
    "data = data >> call('.dropna', subset=['ID'])"
   ]
  },
  {
   "cell_type": "markdown",
   "metadata": {},
   "source": [
    "<div style=\"line-height:300%; background-color:black\">\n",
    "    <font color=white face=\"DejaVu Serif\" size=3>\n",
    "        <div align=center>\n",
    "            محاسبه راندمان آبیاری        \n",
    "        </div>\n",
    "    </font>    \n",
    "</div>"
   ]
  },
  {
   "cell_type": "markdown",
   "metadata": {},
   "source": [
    "### ایجاد کلاس راندمان آبیاری"
   ]
  },
  {
   "cell_type": "code",
   "execution_count": null,
   "metadata": {},
   "outputs": [],
   "source": [
    "Eff = {\n",
    "    '01' : 0.70,\n",
    "    '02' : 0.60,\n",
    "    '03' : 0.80,\n",
    "    '04' : 0.80    \n",
    "}"
   ]
  },
  {
   "cell_type": "markdown",
   "metadata": {},
   "source": [
    "### اضافه کردن راندمان آبیاری به دیتابیس"
   ]
  },
  {
   "cell_type": "code",
   "execution_count": null,
   "metadata": {},
   "outputs": [],
   "source": [
    "data['Eff'] = list(map(Eff.get, data['Irrigation']))"
   ]
  },
  {
   "cell_type": "markdown",
   "metadata": {},
   "source": [
    "<div style=\"line-height:300%; background-color:black\">\n",
    "    <font color=white face=\"DejaVu Serif\" size=3>\n",
    "        <div align=center>\n",
    "            محاسبه ضریب خورد اقلیم        \n",
    "        </div>\n",
    "    </font>    \n",
    "</div>"
   ]
  },
  {
   "cell_type": "markdown",
   "metadata": {},
   "source": [
    "### ایجاد کلاس ضریب خورد اقلیم"
   ]
  },
  {
   "cell_type": "code",
   "execution_count": null,
   "metadata": {},
   "outputs": [],
   "source": [
    "Kmc = {\n",
    "    '01' : 1.20,\n",
    "    '02' : 1.20,\n",
    "    '03' : 1.15,\n",
    "    '04' : 1.10,\n",
    "    '05' : 1.10,\n",
    "    '06' : 1.05,\n",
    "    '07' : 1.05,\n",
    "    '08' : 1.00,\n",
    "    '09' : 0.90,\n",
    "    '10' : 0.80,\n",
    "    '11' : 1.00,\n",
    "    '12' : 1.05,\n",
    "    '13' : 1.05    \n",
    "}"
   ]
  },
  {
   "cell_type": "markdown",
   "metadata": {},
   "source": [
    "### اضافه کردن ضریب خورد اقلیم به دیتابیس"
   ]
  },
  {
   "cell_type": "code",
   "execution_count": null,
   "metadata": {},
   "outputs": [],
   "source": [
    "data['Kmc'] = list(map(Kmc.get, data['Spot']))"
   ]
  },
  {
   "cell_type": "markdown",
   "metadata": {},
   "source": [
    "<div style=\"line-height:300%; background-color:black\">\n",
    "    <font color=white face=\"DejaVu Serif\" size=3>\n",
    "        <div align=center>\n",
    "            محاسبه ضریب گونه        \n",
    "        </div>\n",
    "    </font>    \n",
    "</div>"
   ]
  },
  {
   "cell_type": "markdown",
   "metadata": {},
   "source": [
    "### ایجاد کلاس ضریب گونه"
   ]
  },
  {
   "cell_type": "code",
   "execution_count": null,
   "metadata": {},
   "outputs": [],
   "source": [
    "Ksp = {\n",
    "    '01' : 0.70,\n",
    "    '02' : 0.75,\n",
    "    '04' : 0.80,\n",
    "    '05' : 0.80,\n",
    "    '06' : 0.80,\n",
    "    '10' : 0.70,\n",
    "    '12' : 0.49,\n",
    "    '13' : 0.00,\n",
    "    '14' : 0.80    \n",
    "}"
   ]
  },
  {
   "cell_type": "markdown",
   "metadata": {},
   "source": [
    "### اضافه کردن ضریب گونه به دیتابیس"
   ]
  },
  {
   "cell_type": "code",
   "execution_count": null,
   "metadata": {},
   "outputs": [],
   "source": [
    "data['Ksp'] = list(map(Ksp.get, data['Species']))"
   ]
  },
  {
   "cell_type": "markdown",
   "metadata": {},
   "source": [
    "<div style=\"line-height:300%; background-color:black\">\n",
    "    <font color=white face=\"DejaVu Serif\" size=3>\n",
    "        <div align=center>\n",
    "            محاسبه ضریب تراکم        \n",
    "        </div>\n",
    "    </font>    \n",
    "</div>"
   ]
  },
  {
   "cell_type": "markdown",
   "metadata": {},
   "source": [
    "### ایجاد کلاس ضریب تراکم"
   ]
  },
  {
   "cell_type": "code",
   "execution_count": null,
   "metadata": {},
   "outputs": [],
   "source": [
    "Kd = {\n",
    "    1 : 1,\n",
    "    2 : 1,\n",
    "    3 : 1.2,\n",
    "    4 : 1.2,\n",
    "    5 : 1.3,\n",
    "    6 : 1.3,\n",
    "    7 : 1.3,\n",
    "    8 : 1.3    \n",
    "}"
   ]
  },
  {
   "cell_type": "code",
   "execution_count": null,
   "metadata": {},
   "outputs": [],
   "source": [
    "def name(x):\n",
    "    x = list(x)\n",
    "    if \"10\" in x and \"13\" in x:\n",
    "        return -1\n",
    "    else:\n",
    "        return 0"
   ]
  },
  {
   "cell_type": "code",
   "execution_count": null,
   "metadata": {},
   "outputs": [],
   "source": [
    "a = data.groupby(by=['Region', 'District', 'Peyman', 'Address', 'Irrigation'])\n",
    "a = a.size().reset_index().rename(columns={0 : 'Species_Count'})\n",
    "\n",
    "b = data.groupby(by=['Region', 'District', 'Peyman', 'Address', 'Extera'])\n",
    "b = b.size().reset_index().rename(columns={0 : 'Asleh'})\n",
    "\n",
    "c = a >> left_join(b, on=['Region', 'District', 'Peyman', 'Address']) >> call(pd.DataFrame.fillna, 0)\n",
    "\n",
    "d = data.groupby(by=['Region', 'District', 'Peyman', 'Address'])\n",
    "d = d.agg({'Species' : name}).reset_index().rename(columns={'Species' : 'Double_Asleh'})\n",
    "\n",
    "e = c >> left_join(d, on=['Region', 'District', 'Peyman', 'Address']) >> define(Species_Count = 'Species_Count + Asleh + Double_Asleh') >> select('Extera', 'Asleh', 'Double_Asleh', drop=True)\n",
    "\n",
    "data = data >> left_join(e, on=['Region', 'District', 'Peyman', 'Address', 'Irrigation'])\n",
    "data"
   ]
  },
  {
   "cell_type": "markdown",
   "metadata": {},
   "source": [
    "### اضافه کردن ضریب تراکم به دیتابیس"
   ]
  },
  {
   "cell_type": "code",
   "execution_count": null,
   "metadata": {},
   "outputs": [],
   "source": [
    "data['Kd'] = list(map(Kd.get, data['Species_Count']))"
   ]
  },
  {
   "cell_type": "markdown",
   "metadata": {},
   "source": [
    "مرحله جدید"
   ]
  },
  {
   "cell_type": "code",
   "execution_count": null,
   "metadata": {},
   "outputs": [],
   "source": [
    "KspChangeYear = {\n",
    "    '01' : [0.60, 0.75, 0.90, 1.00, 0.95, 0.80, 0.60, 0.45, 0.35, 0.25, 0.30, 0.40],\n",
    "    '02' : [0.60, 0.75, 0.90, 1.00, 0.95, 0.80, 0.60, 0.45, 0.35, 0.25, 0.30, 0.40],\n",
    "    '04' : [0.60, 0.75, 0.90, 1.00, 0.95, 0.80, 0.60, 0.45, 0.35, 0.25, 0.30, 0.40],\n",
    "    '05' : [0.60, 0.75, 0.90, 1.00, 0.95, 0.80, 0.60, 0.45, 0.35, 0.25, 0.30, 0.40],\n",
    "    '06' : [0.60, 0.75, 0.90, 1.00, 0.95, 0.80, 0.60, 0.45, 0.35, 0.25, 0.30, 0.40],\n",
    "    '10' : [0.60, 0.75, 0.90, 1.00, 0.95, 0.80, 0.60, 0.45, 0.35, 0.25, 0.30, 0.40],\n",
    "    '12' : [0.60, 0.75, 0.90, 1.00, 0.95, 0.80, 0.60, 0.45, 0.35, 0.25, 0.30, 0.40],\n",
    "    '13' : [0.00, 0.00, 0.00, 0.00, 0.00, 0.00, 0.00, 0.00, 0.00, 0.00, 0.00, 0.00],\n",
    "    '14' : [0.60, 0.75, 0.90, 1.00, 0.95, 0.80, 0.60, 0.45, 0.35, 0.25, 0.30, 0.40]    \n",
    "}\n",
    "\n",
    "Ksp_Month_Name = ['Ksp_M01', 'Ksp_M02', 'Ksp_M03', 'Ksp_M04', 'Ksp_M05', 'Ksp_M06',\n",
    "'Ksp_M07', 'Ksp_M08', 'Ksp_M09', 'Ksp_M10', 'Ksp_M11', 'Ksp_M12']\n",
    "\n",
    "KspChangeYear = pd.DataFrame(KspChangeYear, index=Ksp_Month_Name).T\n",
    "\n",
    "KspChangeYear = KspChangeYear.reset_index().rename(columns = {'index' : 'Species'})\n",
    "\n",
    "data = data >> left_join(KspChangeYear, on='Species')"
   ]
  },
  {
   "cell_type": "code",
   "execution_count": null,
   "metadata": {},
   "outputs": [],
   "source": [
    "tmp1 = data.groupby(by=['Region', 'District', 'Peyman', 'Address', 'Irrigation'])['Irrigation_Area']\n",
    "tmp1 = tmp1.sum().reset_index().rename(columns={'Irrigation_Area' : 'SubIrrigation_Area'})\n",
    "\n",
    "data = data >> left_join(tmp1, on=['Region', 'District', 'Peyman', 'Address', 'Irrigation'])"
   ]
  },
  {
   "cell_type": "code",
   "execution_count": null,
   "metadata": {},
   "outputs": [],
   "source": [
    "data = data >> define(Ksp_M01 = 'Ksp_M01 * Ksp * Irrigation_Area / SubIrrigation_Area')\n",
    "data = data >> define(Ksp_M02 = 'Ksp_M02 * Ksp * Irrigation_Area / SubIrrigation_Area')\n",
    "data = data >> define(Ksp_M03 = 'Ksp_M03 * Ksp * Irrigation_Area / SubIrrigation_Area')\n",
    "data = data >> define(Ksp_M04 = 'Ksp_M04 * Ksp * Irrigation_Area / SubIrrigation_Area')\n",
    "data = data >> define(Ksp_M05 = 'Ksp_M05 * Ksp * Irrigation_Area / SubIrrigation_Area')\n",
    "data = data >> define(Ksp_M06 = 'Ksp_M06 * Ksp * Irrigation_Area / SubIrrigation_Area')\n",
    "data = data >> define(Ksp_M07 = 'Ksp_M07 * Ksp * Irrigation_Area / SubIrrigation_Area')\n",
    "data = data >> define(Ksp_M08 = 'Ksp_M08 * Ksp * Irrigation_Area / SubIrrigation_Area')\n",
    "data = data >> define(Ksp_M09 = 'Ksp_M09 * Ksp * Irrigation_Area / SubIrrigation_Area')\n",
    "data = data >> define(Ksp_M10 = 'Ksp_M10 * Ksp * Irrigation_Area / SubIrrigation_Area')\n",
    "data = data >> define(Ksp_M11 = 'Ksp_M11 * Ksp * Irrigation_Area / SubIrrigation_Area')\n",
    "data = data >> define(Ksp_M12 = 'Ksp_M12 * Ksp * Irrigation_Area / SubIrrigation_Area')"
   ]
  },
  {
   "cell_type": "code",
   "execution_count": null,
   "metadata": {},
   "outputs": [],
   "source": [
    "tmp1 = data.groupby(by=['Region', 'District', 'Peyman', 'Address', 'Irrigation'])['Ksp_M01', 'Ksp_M02', 'Ksp_M03', 'Ksp_M04', 'Ksp_M05', 'Ksp_M06', 'Ksp_M07', 'Ksp_M08', 'Ksp_M09', 'Ksp_M10', 'Ksp_M11', 'Ksp_M12'].sum().reset_index()\n",
    "\n",
    "tmp1 = tmp1.rename(columns={\n",
    "    'Ksp_M01' : 'Ksp_M01_Sum_SubIrigation',\n",
    "    'Ksp_M02' : 'Ksp_M02_Sum_SubIrigation',\n",
    "    'Ksp_M03' : 'Ksp_M03_Sum_SubIrigation',\n",
    "    'Ksp_M04' : 'Ksp_M04_Sum_SubIrigation',\n",
    "    'Ksp_M05' : 'Ksp_M05_Sum_SubIrigation',\n",
    "    'Ksp_M06' : 'Ksp_M06_Sum_SubIrigation',\n",
    "    'Ksp_M07' : 'Ksp_M07_Sum_SubIrigation',\n",
    "    'Ksp_M08' : 'Ksp_M08_Sum_SubIrigation',\n",
    "    'Ksp_M09' : 'Ksp_M09_Sum_SubIrigation',\n",
    "    'Ksp_M10' : 'Ksp_M10_Sum_SubIrigation',\n",
    "    'Ksp_M11' : 'Ksp_M11_Sum_SubIrigation',\n",
    "    'Ksp_M12' : 'Ksp_M12_Sum_SubIrigation'\n",
    "})\n",
    "\n",
    "data = data >> left_join(tmp1, on=['Region', 'District', 'Peyman', 'Address', 'Irrigation'])"
   ]
  },
  {
   "cell_type": "code",
   "execution_count": null,
   "metadata": {},
   "outputs": [],
   "source": [
    "data = data >> define(KL_M01 = 'Ksp_M01_Sum_SubIrigation * Kmc * Kd')\n",
    "data = data >> define(KL_M02 = 'Ksp_M02_Sum_SubIrigation * Kmc * Kd')\n",
    "data = data >> define(KL_M03 = 'Ksp_M03_Sum_SubIrigation * Kmc * Kd')\n",
    "data = data >> define(KL_M04 = 'Ksp_M04_Sum_SubIrigation * Kmc * Kd')\n",
    "data = data >> define(KL_M05 = 'Ksp_M05_Sum_SubIrigation * Kmc * Kd')\n",
    "data = data >> define(KL_M06 = 'Ksp_M06_Sum_SubIrigation * Kmc * Kd')\n",
    "data = data >> define(KL_M07 = 'Ksp_M07_Sum_SubIrigation * Kmc * Kd')\n",
    "data = data >> define(KL_M08 = 'Ksp_M08_Sum_SubIrigation * Kmc * Kd')\n",
    "data = data >> define(KL_M09 = 'Ksp_M09_Sum_SubIrigation * Kmc * Kd')\n",
    "data = data >> define(KL_M10 = 'Ksp_M10_Sum_SubIrigation * Kmc * Kd')\n",
    "data = data >> define(KL_M11 = 'Ksp_M11_Sum_SubIrigation * Kmc * Kd')\n",
    "data = data >> define(KL_M12 = 'Ksp_M12_Sum_SubIrigation * Kmc * Kd')"
   ]
  },
  {
   "cell_type": "code",
   "execution_count": null,
   "metadata": {},
   "outputs": [],
   "source": [
    "data"
   ]
  },
  {
   "cell_type": "code",
   "execution_count": null,
   "metadata": {},
   "outputs": [],
   "source": [
    "ETL_Info = {\n",
    "    'Number_Day' : [31, 31, 31, 31, 31, 31, 30, 30, 30, 30, 30, 29],\n",
    "    'PET' : [106, 136, 163, 176, 165, 139, 104, 78, 60, 51, 53, 73],\n",
    "    'Eff_Precipitation' : [23.5, 17.2, 6.6, 1.1, 0.2, 0.7, 5.0, 8.1, 11.4, 20.2, 21.6, 25.0],\n",
    "    'Ground_Water' : [0.0, 0.0, 0.0, 0.0, 0.0, 0.0, 0.0, 0.0, 0.0, 0.0, 0.0, 0.0],\n",
    "    'Deficit_Irrigation' : [0.95, 0.95, 0.95, 0.95, 0.95, 0.95, 0.95, 0.95, 0.95, 0.95, 0.95, 0.95],\n",
    "    'LF' : [0.05, 0.05, 0.05, 0.05, 0.05, 0.05, 0.05, 0.05, 0.05, 0.05, 0.05, 0.05],\n",
    "    'Shading_Area' : [1.00, 1.00, 1.00, 1.00, 1.00, 1.00, 1.00, 1.00, 1.00, 1.00, 1.00, 1.00],\n",
    "    'Percentage_Wetted_Area' : [100, 100, 100, 100, 100, 100, 100, 100, 100, 100, 100, 100]   \n",
    "}\n",
    "\n",
    "Month_Name = ['M01', 'M02', 'M03', 'M04', 'M05', 'M06', 'M07', 'M08', 'M09', 'M10', 'M11', 'M12']\n",
    "\n",
    "ETL_Info = pd.DataFrame(ETL_Info, index=Month_Name)\n",
    "\n",
    "\n",
    "tmp1 = data.groupby(by=['Region', 'District', 'Peyman', 'Address', 'Irrigation'])\n",
    "\n",
    "tmp1 = tmp1['KL_M01', 'KL_M02', 'KL_M03', 'KL_M04', 'KL_M05', 'KL_M06', 'KL_M07', 'KL_M08', 'KL_M09', 'KL_M10', 'KL_M11', 'KL_M12', 'SubIrrigation_Area', 'Eff'].mean().reset_index()\n",
    "\n",
    "\n",
    "month = \"M01\"\n",
    "tmp1 = tmp1 >> define(ETL_M01 = '(KL_M01 * ETL_Info.loc[month][\"PET\"] * ETL_Info.loc[month][\"Deficit_Irrigation\"] * ETL_Info.loc[month][\"Shading_Area\"] - (ETL_Info.loc[month][\"Eff_Precipitation\"] + ETL_Info.loc[month][\"Ground_Water\"]) * ETL_Info.loc[month][\"Percentage_Wetted_Area\"] / 100) / ETL_Info.loc[month][\"Number_Day\"] / (1 - ETL_Info.loc[month][\"LF\"]) / Eff')\n",
    "tmp1 = tmp1 >> define(ETL_M01 = if_else('ETL_M01 < 0', 0, 'ETL_M01'))\n",
    "tmp1 = tmp1 >> define(IrriReq_M01 = 'ETL_M01 * ETL_Info.loc[month][\"Number_Day\"] * SubIrrigation_Area / 1000 / 1000')\n",
    "\n",
    "\n",
    "month = \"M02\"\n",
    "tmp1 = tmp1 >> define(ETL_M02 = '(KL_M02 * ETL_Info.loc[month][\"PET\"] * ETL_Info.loc[month][\"Deficit_Irrigation\"] * ETL_Info.loc[month][\"Shading_Area\"] - (ETL_Info.loc[month][\"Eff_Precipitation\"] + ETL_Info.loc[month][\"Ground_Water\"]) * ETL_Info.loc[month][\"Percentage_Wetted_Area\"] / 100) / ETL_Info.loc[month][\"Number_Day\"] / (1 - ETL_Info.loc[month][\"LF\"]) / Eff')\n",
    "tmp1 = tmp1 >> define(ETL_M02 = if_else('ETL_M02 < 0', 0, 'ETL_M02'))\n",
    "tmp1 = tmp1 >> define(IrriReq_M02 = 'ETL_M02 * ETL_Info.loc[month][\"Number_Day\"] * SubIrrigation_Area / 1000 / 1000')\n",
    "\n",
    "\n",
    "month = \"M03\"\n",
    "tmp1 = tmp1 >> define(ETL_M03 = '(KL_M03 * ETL_Info.loc[month][\"PET\"] * ETL_Info.loc[month][\"Deficit_Irrigation\"] * ETL_Info.loc[month][\"Shading_Area\"] - (ETL_Info.loc[month][\"Eff_Precipitation\"] + ETL_Info.loc[month][\"Ground_Water\"]) * ETL_Info.loc[month][\"Percentage_Wetted_Area\"] / 100) / ETL_Info.loc[month][\"Number_Day\"] / (1 - ETL_Info.loc[month][\"LF\"]) / Eff')\n",
    "tmp1 = tmp1 >> define(ETL_M03 = if_else('ETL_M03 < 0', 0, 'ETL_M03'))\n",
    "tmp1 = tmp1 >> define(IrriReq_M03 = 'ETL_M03 * ETL_Info.loc[month][\"Number_Day\"] * SubIrrigation_Area / 1000 / 1000')\n",
    "\n",
    "\n",
    "month = \"M04\"\n",
    "tmp1 = tmp1 >> define(ETL_M04 = '(KL_M04 * ETL_Info.loc[month][\"PET\"] * ETL_Info.loc[month][\"Deficit_Irrigation\"] * ETL_Info.loc[month][\"Shading_Area\"] - (ETL_Info.loc[month][\"Eff_Precipitation\"] + ETL_Info.loc[month][\"Ground_Water\"]) * ETL_Info.loc[month][\"Percentage_Wetted_Area\"] / 100) / ETL_Info.loc[month][\"Number_Day\"] / (1 - ETL_Info.loc[month][\"LF\"]) / Eff')\n",
    "tmp1 = tmp1 >> define(ETL_M04 = if_else('ETL_M04 < 0', 0, 'ETL_M04'))\n",
    "tmp1 = tmp1 >> define(IrriReq_M04 = 'ETL_M04 * ETL_Info.loc[month][\"Number_Day\"] * SubIrrigation_Area / 1000 / 1000')\n",
    "\n",
    "\n",
    "month = \"M05\"\n",
    "tmp1 = tmp1 >> define(ETL_M05 = '(KL_M05 * ETL_Info.loc[month][\"PET\"] * ETL_Info.loc[month][\"Deficit_Irrigation\"] * ETL_Info.loc[month][\"Shading_Area\"] - (ETL_Info.loc[month][\"Eff_Precipitation\"] + ETL_Info.loc[month][\"Ground_Water\"]) * ETL_Info.loc[month][\"Percentage_Wetted_Area\"] / 100) / ETL_Info.loc[month][\"Number_Day\"] / (1 - ETL_Info.loc[month][\"LF\"]) / Eff')\n",
    "tmp1 = tmp1 >> define(ETL_M05 = if_else('ETL_M05 < 0', 0, 'ETL_M05'))\n",
    "tmp1 = tmp1 >> define(IrriReq_M05 = 'ETL_M05 * ETL_Info.loc[month][\"Number_Day\"] * SubIrrigation_Area / 1000 / 1000')\n",
    "\n",
    "\n",
    "month = \"M06\"\n",
    "tmp1 = tmp1 >> define(ETL_M06 = '(KL_M06 * ETL_Info.loc[month][\"PET\"] * ETL_Info.loc[month][\"Deficit_Irrigation\"] * ETL_Info.loc[month][\"Shading_Area\"] - (ETL_Info.loc[month][\"Eff_Precipitation\"] + ETL_Info.loc[month][\"Ground_Water\"]) * ETL_Info.loc[month][\"Percentage_Wetted_Area\"] / 100) / ETL_Info.loc[month][\"Number_Day\"] / (1 - ETL_Info.loc[month][\"LF\"]) / Eff')\n",
    "tmp1 = tmp1 >> define(ETL_M06 = if_else('ETL_M06 < 0', 0, 'ETL_M06'))\n",
    "tmp1 = tmp1 >> define(IrriReq_M06 = 'ETL_M06 * ETL_Info.loc[month][\"Number_Day\"] * SubIrrigation_Area / 1000 / 1000')\n",
    "\n",
    "\n",
    "month = \"M07\"\n",
    "tmp1 = tmp1 >> define(ETL_M07 = '(KL_M07 * ETL_Info.loc[month][\"PET\"] * ETL_Info.loc[month][\"Deficit_Irrigation\"] * ETL_Info.loc[month][\"Shading_Area\"] - (ETL_Info.loc[month][\"Eff_Precipitation\"] + ETL_Info.loc[month][\"Ground_Water\"]) * ETL_Info.loc[month][\"Percentage_Wetted_Area\"] / 100) / ETL_Info.loc[month][\"Number_Day\"] / (1 - ETL_Info.loc[month][\"LF\"]) / Eff')\n",
    "tmp1 = tmp1 >> define(ETL_M07 = if_else('ETL_M07 < 0', 0, 'ETL_M07'))\n",
    "tmp1 = tmp1 >> define(IrriReq_M07 = 'ETL_M07 * ETL_Info.loc[month][\"Number_Day\"] * SubIrrigation_Area / 1000 / 1000')\n",
    "\n",
    "\n",
    "month = \"M08\"\n",
    "tmp1 = tmp1 >> define(ETL_M08 = '(KL_M08 * ETL_Info.loc[month][\"PET\"] * ETL_Info.loc[month][\"Deficit_Irrigation\"] * ETL_Info.loc[month][\"Shading_Area\"] - (ETL_Info.loc[month][\"Eff_Precipitation\"] + ETL_Info.loc[month][\"Ground_Water\"]) * ETL_Info.loc[month][\"Percentage_Wetted_Area\"] / 100) / ETL_Info.loc[month][\"Number_Day\"] / (1 - ETL_Info.loc[month][\"LF\"]) / Eff')\n",
    "tmp1 = tmp1 >> define(ETL_M08 = if_else('ETL_M08 < 0', 0, 'ETL_M08'))\n",
    "tmp1 = tmp1 >> define(IrriReq_M08 = 'ETL_M08 * ETL_Info.loc[month][\"Number_Day\"] * SubIrrigation_Area / 1000 / 1000')\n",
    "\n",
    "\n",
    "month = \"M09\"\n",
    "tmp1 = tmp1 >> define(ETL_M09 = '(KL_M09 * ETL_Info.loc[month][\"PET\"] * ETL_Info.loc[month][\"Deficit_Irrigation\"] * ETL_Info.loc[month][\"Shading_Area\"] - (ETL_Info.loc[month][\"Eff_Precipitation\"] + ETL_Info.loc[month][\"Ground_Water\"]) * ETL_Info.loc[month][\"Percentage_Wetted_Area\"] / 100) / ETL_Info.loc[month][\"Number_Day\"] / (1 - ETL_Info.loc[month][\"LF\"]) / Eff')\n",
    "tmp1 = tmp1 >> define(ETL_M09 = if_else('ETL_M09 < 0', 0, 'ETL_M09'))\n",
    "tmp1 = tmp1 >> define(IrriReq_M09 = 'ETL_M09 * ETL_Info.loc[month][\"Number_Day\"] * SubIrrigation_Area / 1000 / 1000')\n",
    "\n",
    "\n",
    "month = \"M10\"\n",
    "tmp1 = tmp1 >> define(ETL_M10 = '(KL_M10 * ETL_Info.loc[month][\"PET\"] * ETL_Info.loc[month][\"Deficit_Irrigation\"] * ETL_Info.loc[month][\"Shading_Area\"] - (ETL_Info.loc[month][\"Eff_Precipitation\"] + ETL_Info.loc[month][\"Ground_Water\"]) * ETL_Info.loc[month][\"Percentage_Wetted_Area\"] / 100) / ETL_Info.loc[month][\"Number_Day\"] / (1 - ETL_Info.loc[month][\"LF\"]) / Eff')\n",
    "tmp1 = tmp1 >> define(ETL_M10 = if_else('ETL_M10 < 0', 0, 'ETL_M10'))\n",
    "tmp1 = tmp1 >> define(IrriReq_M10 = 'ETL_M10 * ETL_Info.loc[month][\"Number_Day\"] * SubIrrigation_Area / 1000 / 1000')\n",
    "\n",
    "\n",
    "month = \"M11\"\n",
    "tmp1 = tmp1 >> define(ETL_M11 = '(KL_M11 * ETL_Info.loc[month][\"PET\"] * ETL_Info.loc[month][\"Deficit_Irrigation\"] * ETL_Info.loc[month][\"Shading_Area\"] - (ETL_Info.loc[month][\"Eff_Precipitation\"] + ETL_Info.loc[month][\"Ground_Water\"]) * ETL_Info.loc[month][\"Percentage_Wetted_Area\"] / 100) / ETL_Info.loc[month][\"Number_Day\"] / (1 - ETL_Info.loc[month][\"LF\"]) / Eff')\n",
    "tmp1 = tmp1 >> define(ETL_M11 = if_else('ETL_M11 < 0', 0, 'ETL_M11'))\n",
    "tmp1 = tmp1 >> define(IrriReq_M11 = 'ETL_M11 * ETL_Info.loc[month][\"Number_Day\"] * SubIrrigation_Area / 1000 / 1000')\n",
    "\n",
    "\n",
    "month = \"M12\"\n",
    "tmp1 = tmp1 >> define(ETL_M12 = '(KL_M12 * ETL_Info.loc[month][\"PET\"] * ETL_Info.loc[month][\"Deficit_Irrigation\"] * ETL_Info.loc[month][\"Shading_Area\"] - (ETL_Info.loc[month][\"Eff_Precipitation\"] + ETL_Info.loc[month][\"Ground_Water\"]) * ETL_Info.loc[month][\"Percentage_Wetted_Area\"] / 100) / ETL_Info.loc[month][\"Number_Day\"] / (1 - ETL_Info.loc[month][\"LF\"]) / Eff')\n",
    "tmp1 = tmp1 >> define(ETL_M12 = if_else('ETL_M12 < 0', 0, 'ETL_M12'))\n",
    "tmp1 = tmp1 >> define(IrriReq_M12 = 'ETL_M12 * ETL_Info.loc[month][\"Number_Day\"] * SubIrrigation_Area / 1000 / 1000')\n",
    "\n",
    "\n",
    "tmp1 = tmp1 >> define(ETL_YEAR = 'ETL_M01 * ETL_Info.loc[\"M01\"][\"Number_Day\"] + ETL_M02 * ETL_Info.loc[\"M02\"][\"Number_Day\"] + ETL_M03 * ETL_Info.loc[\"M03\"][\"Number_Day\"] + ETL_M04 * ETL_Info.loc[\"M04\"][\"Number_Day\"] + ETL_M05 * ETL_Info.loc[\"M05\"][\"Number_Day\"] + ETL_M06 * ETL_Info.loc[\"M06\"][\"Number_Day\"] + ETL_M07 * ETL_Info.loc[\"M07\"][\"Number_Day\"] + ETL_M08 * ETL_Info.loc[\"M08\"][\"Number_Day\"] + ETL_M09 * ETL_Info.loc[\"M09\"][\"Number_Day\"] + ETL_M10 * ETL_Info.loc[\"M10\"][\"Number_Day\"] + ETL_M11 * ETL_Info.loc[\"M11\"][\"Number_Day\"] + ETL_M12 * ETL_Info.loc[\"M12\"][\"Number_Day\"]')\n",
    "tmp1 = tmp1 >> define(IrriReq_YEAR = 'ETL_YEAR * SubIrrigation_Area / 1000 / 1000')\n",
    "\n",
    "\n",
    "tmp1"
   ]
  },
  {
   "cell_type": "code",
   "execution_count": null,
   "metadata": {},
   "outputs": [],
   "source": [
    "tmp1.to_excel('result.xlsx')"
   ]
  },
  {
   "cell_type": "code",
   "execution_count": null,
   "metadata": {},
   "outputs": [],
   "source": [
    "tmp1.groupby(['Region', 'District']).agg({\n",
    "    'SubIrrigation_Area' : 'sum',\n",
    "    'ETL_YEAR' : 'mean',\n",
    "    'IrriReq_YEAR' : 'sum'\n",
    "}).reset_index().rename(columns={'Region' : 'منطقه', 'District' : 'ناحیه', 'SubIrrigation_Area' : 'مساحت تحت آبیاری - مترمربع', 'ETL_YEAR' : 'نیاز آبیاری - میلیمتر در سال', 'IrriReq_YEAR' : 'نیاز آبیاری سالانه - هزار مترمکعب'}).to_excel('result2.xlsx')\n"
   ]
  },
  {
   "cell_type": "code",
   "execution_count": null,
   "metadata": {},
   "outputs": [],
   "source": []
  }
 ],
 "metadata": {
  "kernelspec": {
   "display_name": "Python 3",
   "language": "python",
   "name": "python3"
  },
  "language_info": {
   "codemirror_mode": {
    "name": "ipython",
    "version": 3
   },
   "file_extension": ".py",
   "mimetype": "text/x-python",
   "name": "python",
   "nbconvert_exporter": "python",
   "pygments_lexer": "ipython3",
   "version": "3.7.7"
  }
 },
 "nbformat": 4,
 "nbformat_minor": 4
}
